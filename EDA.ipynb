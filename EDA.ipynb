{
 "cells": [
  {
   "cell_type": "markdown",
   "id": "5b11a1e2",
   "metadata": {},
   "source": [
    "# Task"
   ]
  },
  {
   "cell_type": "markdown",
   "id": "8a9d87df",
   "metadata": {},
   "source": [
    "Exploratory Data Analysis of Polish Twitter [dataset](http://2019.poleval.pl/index.php/tasks/task6)"
   ]
  },
  {
   "cell_type": "markdown",
   "id": "63b413f8",
   "metadata": {},
   "source": [
    "# Init"
   ]
  },
  {
   "cell_type": "markdown",
   "id": "e20cc5b7",
   "metadata": {},
   "source": [
    "## Importing modules"
   ]
  },
  {
   "cell_type": "code",
   "execution_count": 2,
   "id": "3e320c75",
   "metadata": {},
   "outputs": [],
   "source": [
    "import re\n",
    "import os\n",
    "import string\n",
    "from enum import Enum\n",
    "\n",
    "import numpy as np\n",
    "import pandas as pd\n",
    "import seaborn as sns\n",
    "import matplotlib.pyplot as plt\n",
    "\n",
    "plt.style.use('seaborn')\n",
    "# sns.set_palette('hls', 8)\n",
    "# sns.set_palette('pastel')\n"
   ]
  },
  {
   "cell_type": "code",
   "execution_count": 3,
   "id": "9e070b33",
   "metadata": {
    "scrolled": true
   },
   "outputs": [],
   "source": [
    "from sklearn.feature_extraction.text import CountVectorizer"
   ]
  },
  {
   "cell_type": "markdown",
   "id": "c2134006",
   "metadata": {},
   "source": [
    "## Constants"
   ]
  },
  {
   "cell_type": "code",
   "execution_count": 4,
   "id": "70b78640",
   "metadata": {},
   "outputs": [],
   "source": [
    "DATA_DIR = 'data/'\n",
    "TRAIN_DATA_DIR = os.path.join(DATA_DIR, 'train/')\n",
    "TEST_DATA_DIR = os.path.join(DATA_DIR, 'test/')\n",
    "\n",
    "MAX_TWEET_LENGTH = 280"
   ]
  },
  {
   "cell_type": "code",
   "execution_count": 5,
   "id": "4e236284",
   "metadata": {},
   "outputs": [],
   "source": [
    "class Labels(Enum):\n",
    "    NON_HARMFUL = 0\n",
    "    HARMFUL = 1"
   ]
  },
  {
   "cell_type": "markdown",
   "id": "1cecbde5",
   "metadata": {},
   "source": [
    "## Helper functions "
   ]
  },
  {
   "cell_type": "code",
   "execution_count": 6,
   "id": "340651f9",
   "metadata": {},
   "outputs": [],
   "source": [
    "def display_full_df(df) -> None:\n",
    "    \"\"\"Displays a df with no fixed width and a specified number of rows.\"\"\"\n",
    "    \n",
    "    pd.set_option('display.max_columns', None)  # or 1000\n",
    "    pd.set_option('display.max_rows', None)  # or 1000\n",
    "    pd.set_option('display.max_colwidth', None)  # or 199\n",
    "    print(df)\n"
   ]
  },
  {
   "cell_type": "markdown",
   "id": "53c56e9c",
   "metadata": {},
   "source": [
    "# Analysis"
   ]
  },
  {
   "cell_type": "markdown",
   "id": "12388f80",
   "metadata": {},
   "source": [
    "## Loading data"
   ]
  },
  {
   "cell_type": "code",
   "execution_count": 7,
   "id": "f2ce8a3e",
   "metadata": {},
   "outputs": [
    {
     "data": {
      "text/plain": [
       "['training_set_clean_only_tags.txt', 'training_set_clean_only_text.txt']"
      ]
     },
     "execution_count": 7,
     "metadata": {},
     "output_type": "execute_result"
    }
   ],
   "source": [
    "os.listdir(TRAIN_DATA_DIR)"
   ]
  },
  {
   "cell_type": "code",
   "execution_count": 8,
   "id": "cbec6ef1",
   "metadata": {},
   "outputs": [],
   "source": [
    "TRAIN_DATA = os.path.join(TRAIN_DATA_DIR, os.listdir(TRAIN_DATA_DIR)[1])\n",
    "TRAIN_LABELS = os.path.join(TRAIN_DATA_DIR, os.listdir(TRAIN_DATA_DIR)[0])"
   ]
  },
  {
   "cell_type": "code",
   "execution_count": 9,
   "id": "bfcb393d",
   "metadata": {},
   "outputs": [
    {
     "data": {
      "text/plain": [
       "((10041, 1), (10041, 1))"
      ]
     },
     "execution_count": 9,
     "metadata": {},
     "output_type": "execute_result"
    }
   ],
   "source": [
    "data_df = pd.read_csv(TRAIN_DATA, sep='\\n', names=['text'])\n",
    "labels_df = pd.read_csv(TRAIN_LABELS, sep='\\n', names=['label'])\n",
    "\n",
    "data_df.shape, labels_df.shape"
   ]
  },
  {
   "cell_type": "code",
   "execution_count": 10,
   "id": "0fe14ad1",
   "metadata": {},
   "outputs": [
    {
     "data": {
      "text/html": [
       "<div>\n",
       "<style scoped>\n",
       "    .dataframe tbody tr th:only-of-type {\n",
       "        vertical-align: middle;\n",
       "    }\n",
       "\n",
       "    .dataframe tbody tr th {\n",
       "        vertical-align: top;\n",
       "    }\n",
       "\n",
       "    .dataframe thead th {\n",
       "        text-align: right;\n",
       "    }\n",
       "</style>\n",
       "<table border=\"1\" class=\"dataframe\">\n",
       "  <thead>\n",
       "    <tr style=\"text-align: right;\">\n",
       "      <th></th>\n",
       "      <th>text</th>\n",
       "    </tr>\n",
       "  </thead>\n",
       "  <tbody>\n",
       "    <tr>\n",
       "      <th>0</th>\n",
       "      <td>Dla mnie faworytem do tytułu będzie Cracovia. ...</td>\n",
       "    </tr>\n",
       "    <tr>\n",
       "      <th>1</th>\n",
       "      <td>@anonymized_account @anonymized_account Brawo ...</td>\n",
       "    </tr>\n",
       "    <tr>\n",
       "      <th>2</th>\n",
       "      <td>@anonymized_account @anonymized_account Super,...</td>\n",
       "    </tr>\n",
       "    <tr>\n",
       "      <th>3</th>\n",
       "      <td>@anonymized_account @anonymized_account Musi. ...</td>\n",
       "    </tr>\n",
       "    <tr>\n",
       "      <th>4</th>\n",
       "      <td>Odrzut natychmiastowy, kwaśna mina, mam problem</td>\n",
       "    </tr>\n",
       "  </tbody>\n",
       "</table>\n",
       "</div>"
      ],
      "text/plain": [
       "                                                text\n",
       "0  Dla mnie faworytem do tytułu będzie Cracovia. ...\n",
       "1  @anonymized_account @anonymized_account Brawo ...\n",
       "2  @anonymized_account @anonymized_account Super,...\n",
       "3  @anonymized_account @anonymized_account Musi. ...\n",
       "4    Odrzut natychmiastowy, kwaśna mina, mam problem"
      ]
     },
     "execution_count": 10,
     "metadata": {},
     "output_type": "execute_result"
    }
   ],
   "source": [
    "data_df.head()"
   ]
  },
  {
   "cell_type": "code",
   "execution_count": 11,
   "id": "4989419e",
   "metadata": {},
   "outputs": [
    {
     "data": {
      "text/html": [
       "<div>\n",
       "<style scoped>\n",
       "    .dataframe tbody tr th:only-of-type {\n",
       "        vertical-align: middle;\n",
       "    }\n",
       "\n",
       "    .dataframe tbody tr th {\n",
       "        vertical-align: top;\n",
       "    }\n",
       "\n",
       "    .dataframe thead th {\n",
       "        text-align: right;\n",
       "    }\n",
       "</style>\n",
       "<table border=\"1\" class=\"dataframe\">\n",
       "  <thead>\n",
       "    <tr style=\"text-align: right;\">\n",
       "      <th></th>\n",
       "      <th>label</th>\n",
       "    </tr>\n",
       "  </thead>\n",
       "  <tbody>\n",
       "    <tr>\n",
       "      <th>0</th>\n",
       "      <td>0</td>\n",
       "    </tr>\n",
       "    <tr>\n",
       "      <th>1</th>\n",
       "      <td>0</td>\n",
       "    </tr>\n",
       "    <tr>\n",
       "      <th>2</th>\n",
       "      <td>0</td>\n",
       "    </tr>\n",
       "    <tr>\n",
       "      <th>3</th>\n",
       "      <td>0</td>\n",
       "    </tr>\n",
       "    <tr>\n",
       "      <th>4</th>\n",
       "      <td>0</td>\n",
       "    </tr>\n",
       "  </tbody>\n",
       "</table>\n",
       "</div>"
      ],
      "text/plain": [
       "   label\n",
       "0      0\n",
       "1      0\n",
       "2      0\n",
       "3      0\n",
       "4      0"
      ]
     },
     "execution_count": 11,
     "metadata": {},
     "output_type": "execute_result"
    }
   ],
   "source": [
    "labels_df.head()"
   ]
  },
  {
   "cell_type": "markdown",
   "id": "96119ca4",
   "metadata": {},
   "source": [
    "Concatenating dataframes"
   ]
  },
  {
   "cell_type": "code",
   "execution_count": 12,
   "id": "92c4fddd",
   "metadata": {},
   "outputs": [
    {
     "data": {
      "text/html": [
       "<div>\n",
       "<style scoped>\n",
       "    .dataframe tbody tr th:only-of-type {\n",
       "        vertical-align: middle;\n",
       "    }\n",
       "\n",
       "    .dataframe tbody tr th {\n",
       "        vertical-align: top;\n",
       "    }\n",
       "\n",
       "    .dataframe thead th {\n",
       "        text-align: right;\n",
       "    }\n",
       "</style>\n",
       "<table border=\"1\" class=\"dataframe\">\n",
       "  <thead>\n",
       "    <tr style=\"text-align: right;\">\n",
       "      <th></th>\n",
       "      <th>text</th>\n",
       "      <th>label</th>\n",
       "    </tr>\n",
       "  </thead>\n",
       "  <tbody>\n",
       "    <tr>\n",
       "      <th>0</th>\n",
       "      <td>Dla mnie faworytem do tytułu będzie Cracovia. ...</td>\n",
       "      <td>0</td>\n",
       "    </tr>\n",
       "    <tr>\n",
       "      <th>1</th>\n",
       "      <td>@anonymized_account @anonymized_account Brawo ...</td>\n",
       "      <td>0</td>\n",
       "    </tr>\n",
       "    <tr>\n",
       "      <th>2</th>\n",
       "      <td>@anonymized_account @anonymized_account Super,...</td>\n",
       "      <td>0</td>\n",
       "    </tr>\n",
       "    <tr>\n",
       "      <th>3</th>\n",
       "      <td>@anonymized_account @anonymized_account Musi. ...</td>\n",
       "      <td>0</td>\n",
       "    </tr>\n",
       "    <tr>\n",
       "      <th>4</th>\n",
       "      <td>Odrzut natychmiastowy, kwaśna mina, mam problem</td>\n",
       "      <td>0</td>\n",
       "    </tr>\n",
       "  </tbody>\n",
       "</table>\n",
       "</div>"
      ],
      "text/plain": [
       "                                                text  label\n",
       "0  Dla mnie faworytem do tytułu będzie Cracovia. ...      0\n",
       "1  @anonymized_account @anonymized_account Brawo ...      0\n",
       "2  @anonymized_account @anonymized_account Super,...      0\n",
       "3  @anonymized_account @anonymized_account Musi. ...      0\n",
       "4    Odrzut natychmiastowy, kwaśna mina, mam problem      0"
      ]
     },
     "execution_count": 12,
     "metadata": {},
     "output_type": "execute_result"
    }
   ],
   "source": [
    "df = pd.concat([data_df, labels_df], axis=1)\n",
    "\n",
    "df.head()"
   ]
  },
  {
   "cell_type": "markdown",
   "id": "5c0b8d01",
   "metadata": {},
   "source": [
    "## EDA"
   ]
  },
  {
   "cell_type": "markdown",
   "id": "28b9033d",
   "metadata": {},
   "source": [
    "### Null values"
   ]
  },
  {
   "cell_type": "code",
   "execution_count": 13,
   "id": "ded216eb",
   "metadata": {},
   "outputs": [
    {
     "name": "stdout",
     "output_type": "stream",
     "text": [
      "<class 'pandas.core.frame.DataFrame'>\n",
      "RangeIndex: 10041 entries, 0 to 10040\n",
      "Data columns (total 2 columns):\n",
      " #   Column  Non-Null Count  Dtype \n",
      "---  ------  --------------  ----- \n",
      " 0   text    10041 non-null  object\n",
      " 1   label   10041 non-null  int64 \n",
      "dtypes: int64(1), object(1)\n",
      "memory usage: 157.0+ KB\n"
     ]
    }
   ],
   "source": [
    "df.info()"
   ]
  },
  {
   "cell_type": "code",
   "execution_count": 14,
   "id": "9630fd55",
   "metadata": {},
   "outputs": [
    {
     "data": {
      "text/plain": [
       "text     0\n",
       "label    0\n",
       "dtype: int64"
      ]
     },
     "execution_count": 14,
     "metadata": {},
     "output_type": "execute_result"
    }
   ],
   "source": [
    "df.isnull().sum()"
   ]
  },
  {
   "cell_type": "markdown",
   "id": "56d24d75",
   "metadata": {},
   "source": [
    "No null values"
   ]
  },
  {
   "cell_type": "markdown",
   "id": "ba301464",
   "metadata": {},
   "source": [
    "### Labels"
   ]
  },
  {
   "cell_type": "code",
   "execution_count": 15,
   "id": "c2bf34d1",
   "metadata": {},
   "outputs": [
    {
     "data": {
      "text/plain": [
       "array([0, 1])"
      ]
     },
     "execution_count": 15,
     "metadata": {},
     "output_type": "execute_result"
    }
   ],
   "source": [
    "df['label'].unique()"
   ]
  },
  {
   "cell_type": "markdown",
   "id": "5a1b1f24",
   "metadata": {},
   "source": [
    "No incorrect labels"
   ]
  },
  {
   "cell_type": "markdown",
   "id": "e144f59d",
   "metadata": {},
   "source": [
    "### Distribution of labels"
   ]
  },
  {
   "cell_type": "code",
   "execution_count": 16,
   "id": "b58c66ba",
   "metadata": {},
   "outputs": [
    {
     "data": {
      "text/plain": [
       "0    9190\n",
       "1     851\n",
       "Name: label, dtype: int64"
      ]
     },
     "execution_count": 16,
     "metadata": {},
     "output_type": "execute_result"
    }
   ],
   "source": [
    "df['label'].value_counts()"
   ]
  },
  {
   "cell_type": "code",
   "execution_count": 17,
   "id": "3f4669ad",
   "metadata": {},
   "outputs": [
    {
     "data": {
      "image/png": "[encoded data removed]",
      "text/plain": [
       "<Figure size 576x396 with 1 Axes>"
      ]
     },
     "metadata": {},
     "output_type": "display_data"
    }
   ],
   "source": [
    "# Customization\n",
    "hue_colors = {Labels.NON_HARMFUL.value: 'green',\n",
    "              Labels.HARMFUL.value: 'red'}\n",
    "\n",
    "plt.xticks(range(2), ['Positive [0]', 'Negative [1]'])\n",
    "plt.title('Label distribution')\n",
    "\n",
    "sns.countplot(x='label', data=df, palette=hue_colors)\n",
    "\n",
    "plt.xticks(range(2), [Labels.NON_HARMFUL.name, Labels.HARMFUL.name])\n",
    "plt.show()"
   ]
  },
  {
   "cell_type": "markdown",
   "id": "53c68c36",
   "metadata": {},
   "source": [
    "Unfortunately the labels are not equally distributed. This may be a significant problem and has to be considered in evaluation metrics."
   ]
  },
  {
   "cell_type": "markdown",
   "id": "e441e408",
   "metadata": {},
   "source": [
    "### Length of tweets"
   ]
  },
  {
   "cell_type": "code",
   "execution_count": 18,
   "id": "784625ef",
   "metadata": {},
   "outputs": [
    {
     "data": {
      "text/html": [
       "<div>\n",
       "<style scoped>\n",
       "    .dataframe tbody tr th:only-of-type {\n",
       "        vertical-align: middle;\n",
       "    }\n",
       "\n",
       "    .dataframe tbody tr th {\n",
       "        vertical-align: top;\n",
       "    }\n",
       "\n",
       "    .dataframe thead th {\n",
       "        text-align: right;\n",
       "    }\n",
       "</style>\n",
       "<table border=\"1\" class=\"dataframe\">\n",
       "  <thead>\n",
       "    <tr style=\"text-align: right;\">\n",
       "      <th></th>\n",
       "      <th>text</th>\n",
       "      <th>label</th>\n",
       "      <th>length</th>\n",
       "    </tr>\n",
       "  </thead>\n",
       "  <tbody>\n",
       "    <tr>\n",
       "      <th>0</th>\n",
       "      <td>Dla mnie faworytem do tytułu będzie Cracovia. ...</td>\n",
       "      <td>0</td>\n",
       "      <td>78</td>\n",
       "    </tr>\n",
       "    <tr>\n",
       "      <th>1</th>\n",
       "      <td>@anonymized_account @anonymized_account Brawo ...</td>\n",
       "      <td>0</td>\n",
       "      <td>82</td>\n",
       "    </tr>\n",
       "    <tr>\n",
       "      <th>2</th>\n",
       "      <td>@anonymized_account @anonymized_account Super,...</td>\n",
       "      <td>0</td>\n",
       "      <td>125</td>\n",
       "    </tr>\n",
       "    <tr>\n",
       "      <th>3</th>\n",
       "      <td>@anonymized_account @anonymized_account Musi. ...</td>\n",
       "      <td>0</td>\n",
       "      <td>67</td>\n",
       "    </tr>\n",
       "    <tr>\n",
       "      <th>4</th>\n",
       "      <td>Odrzut natychmiastowy, kwaśna mina, mam problem</td>\n",
       "      <td>0</td>\n",
       "      <td>47</td>\n",
       "    </tr>\n",
       "  </tbody>\n",
       "</table>\n",
       "</div>"
      ],
      "text/plain": [
       "                                                text  label  length\n",
       "0  Dla mnie faworytem do tytułu będzie Cracovia. ...      0      78\n",
       "1  @anonymized_account @anonymized_account Brawo ...      0      82\n",
       "2  @anonymized_account @anonymized_account Super,...      0     125\n",
       "3  @anonymized_account @anonymized_account Musi. ...      0      67\n",
       "4    Odrzut natychmiastowy, kwaśna mina, mam problem      0      47"
      ]
     },
     "execution_count": 18,
     "metadata": {},
     "output_type": "execute_result"
    }
   ],
   "source": [
    "tweet_lengths = df.copy()\n",
    "tweet_lengths['length'] = tweet_lengths['text'].str.len()\n",
    "tweet_lengths.head()"
   ]
  },
  {
   "cell_type": "markdown",
   "id": "3a9d647e",
   "metadata": {},
   "source": [
    "Average and Median tweet length"
   ]
  },
  {
   "cell_type": "code",
   "execution_count": 19,
   "id": "8cb5beaa",
   "metadata": {},
   "outputs": [
    {
     "name": "stdout",
     "output_type": "stream",
     "text": [
      "Average tweet length: 93\n",
      "Median tweet length: 91\n"
     ]
    }
   ],
   "source": [
    "print(f'Average tweet length: {int(np.mean(tweet_lengths[\"length\"]))}')\n",
    "print(f'Median tweet length: {int(np.median(tweet_lengths[\"length\"]))}')"
   ]
  },
  {
   "cell_type": "markdown",
   "id": "90e9ff7d",
   "metadata": {},
   "source": [
    "Average and Median tweet length compared to the max tweet length"
   ]
  },
  {
   "cell_type": "code",
   "execution_count": 20,
   "id": "d9a1efb2",
   "metadata": {},
   "outputs": [
    {
     "name": "stdout",
     "output_type": "stream",
     "text": [
      "Average tweet length / tweet max length ratio: 0.334\n",
      "Median tweet length / tweet max length ratio: 0.325\n"
     ]
    }
   ],
   "source": [
    "print(f'Average tweet length / tweet max length ratio: {round(np.mean(tweet_lengths[\"length\"]) / MAX_TWEET_LENGTH, 3)}')\n",
    "print(f'Median tweet length / tweet max length ratio: {round(np.median(tweet_lengths[\"length\"]) / MAX_TWEET_LENGTH, 3)}')"
   ]
  },
  {
   "cell_type": "markdown",
   "id": "bad4f697",
   "metadata": {},
   "source": [
    "In most cases, people only use 30% of the max tweet length"
   ]
  },
  {
   "cell_type": "markdown",
   "id": "467cf41d",
   "metadata": {},
   "source": [
    "### Does the tweet length correlate with the tweet's sentiment?"
   ]
  },
  {
   "cell_type": "markdown",
   "id": "ea0a29b1",
   "metadata": {},
   "source": [
    "Tweet length distribution"
   ]
  },
  {
   "cell_type": "code",
   "execution_count": 21,
   "id": "9cb858b6",
   "metadata": {},
   "outputs": [
    {
     "data": {
      "image/png": "[encoded data removed]",
      "text/plain": [
       "<Figure size 720x360 with 1 Axes>"
      ]
     },
     "metadata": {},
     "output_type": "display_data"
    }
   ],
   "source": [
    "plt.figure(figsize=(10,5))\n",
    "sns.histplot(x='length', data=tweet_lengths, kde=True, bins=20)\n",
    "plt.show()"
   ]
  },
  {
   "cell_type": "markdown",
   "id": "42b97334",
   "metadata": {},
   "source": [
    "It seems like the tweet length is having a normal (right skewed) distribution, and it is. How does the distribution look like for each class?"
   ]
  },
  {
   "cell_type": "markdown",
   "id": "df558c63",
   "metadata": {},
   "source": [
    "### Tweet length distribution by dlass"
   ]
  },
  {
   "cell_type": "code",
   "execution_count": 22,
   "id": "cf830e5c",
   "metadata": {},
   "outputs": [
    {
     "data": {
      "image/png": "[encoded data removed]",
      "text/plain": [
       "<Figure size 720x360 with 1 Axes>"
      ]
     },
     "metadata": {},
     "output_type": "display_data"
    }
   ],
   "source": [
    "plt.figure(figsize=(10,5))\n",
    "sns.histplot(x='length', data=tweet_lengths, kde=True, hue='label', bins=20, palette=hue_colors)\n",
    "plt.show()\n"
   ]
  },
  {
   "cell_type": "markdown",
   "id": "145461bc",
   "metadata": {},
   "source": [
    "The number of classes is not well distributed, let's examine the distribution for each class separately"
   ]
  },
  {
   "cell_type": "markdown",
   "id": "2224858b",
   "metadata": {},
   "source": [
    "- Positive sentiment"
   ]
  },
  {
   "cell_type": "code",
   "execution_count": 23,
   "id": "54ec8868",
   "metadata": {},
   "outputs": [
    {
     "data": {
      "text/plain": [
       "[]"
      ]
     },
     "execution_count": 23,
     "metadata": {},
     "output_type": "execute_result"
    },
    {
     "data": {
      "image/png": "[encoded data removed]",
      "text/plain": [
       "<Figure size 720x360 with 1 Axes>"
      ]
     },
     "metadata": {},
     "output_type": "display_data"
    }
   ],
   "source": [
    "plt.figure(figsize=(10,5))\n",
    "g = sns.histplot(x='length', data=tweet_lengths[tweet_lengths['label'] == Labels.NON_HARMFUL.value], kde=True, color='green', bins=30)\n",
    "g.set_title('Non-harmful tweet length distribution')\n",
    "plt.plot()"
   ]
  },
  {
   "cell_type": "markdown",
   "id": "a1e8b36d",
   "metadata": {},
   "source": [
    "Right skewed distribution (positive skewness)"
   ]
  },
  {
   "cell_type": "code",
   "execution_count": 24,
   "id": "aab8824f",
   "metadata": {},
   "outputs": [
    {
     "data": {
      "text/plain": [
       "0    65\n",
       "dtype: int64"
      ]
     },
     "execution_count": 24,
     "metadata": {},
     "output_type": "execute_result"
    }
   ],
   "source": [
    "tweet_lengths[tweet_lengths['label'] == Labels.NON_HARMFUL.value]['length'].mode()"
   ]
  },
  {
   "cell_type": "markdown",
   "id": "43f719fa",
   "metadata": {},
   "source": [
    "The most frequent non harmful tweet length (mode - dominanta) is somewhere about 65-80"
   ]
  },
  {
   "cell_type": "markdown",
   "id": "ed8e1597",
   "metadata": {},
   "source": [
    "- Negative sentiment"
   ]
  },
  {
   "cell_type": "code",
   "execution_count": 25,
   "id": "241b6a3e",
   "metadata": {},
   "outputs": [
    {
     "data": {
      "image/png": "[encoded data removed]",
      "text/plain": [
       "<Figure size 720x360 with 1 Axes>"
      ]
     },
     "metadata": {},
     "output_type": "display_data"
    }
   ],
   "source": [
    "plt.figure(figsize=(10,5))\n",
    "g = sns.histplot(x='length', data=tweet_lengths[tweet_lengths['label'] == Labels.HARMFUL.value], kde=True, color='red', bins=30)\n",
    "g.set_title('Harmful tweet length distribution')\n",
    "plt.show()"
   ]
  },
  {
   "cell_type": "markdown",
   "id": "a4e7af52",
   "metadata": {},
   "source": [
    "Normal distribution"
   ]
  },
  {
   "cell_type": "code",
   "execution_count": 26,
   "id": "45ebc8d2",
   "metadata": {},
   "outputs": [
    {
     "data": {
      "text/plain": [
       "0     97\n",
       "1    103\n",
       "dtype: int64"
      ]
     },
     "execution_count": 26,
     "metadata": {},
     "output_type": "execute_result"
    }
   ],
   "source": [
    "tweet_lengths[tweet_lengths['label'] == Labels.HARMFUL.value]['length'].mode()"
   ]
  },
  {
   "cell_type": "markdown",
   "id": "95aa6f40",
   "metadata": {},
   "source": [
    "The most frequent, harmful tweet length (mode - dominanta) is somewhere about 95 - 105"
   ]
  },
  {
   "cell_type": "markdown",
   "id": "427d4745",
   "metadata": {},
   "source": [
    "It looks like that the tweet length may be correlated with the sentiment, as the tweets with negative sentiment are usually longer."
   ]
  },
  {
   "cell_type": "code",
   "execution_count": 27,
   "id": "927d2508",
   "metadata": {},
   "outputs": [
    {
     "data": {
      "text/html": [
       "<div>\n",
       "<style scoped>\n",
       "    .dataframe tbody tr th:only-of-type {\n",
       "        vertical-align: middle;\n",
       "    }\n",
       "\n",
       "    .dataframe tbody tr th {\n",
       "        vertical-align: top;\n",
       "    }\n",
       "\n",
       "    .dataframe thead th {\n",
       "        text-align: right;\n",
       "    }\n",
       "</style>\n",
       "<table border=\"1\" class=\"dataframe\">\n",
       "  <thead>\n",
       "    <tr style=\"text-align: right;\">\n",
       "      <th></th>\n",
       "      <th>length</th>\n",
       "    </tr>\n",
       "    <tr>\n",
       "      <th>label</th>\n",
       "      <th></th>\n",
       "    </tr>\n",
       "  </thead>\n",
       "  <tbody>\n",
       "    <tr>\n",
       "      <th>0</th>\n",
       "      <td>89</td>\n",
       "    </tr>\n",
       "    <tr>\n",
       "      <th>1</th>\n",
       "      <td>103</td>\n",
       "    </tr>\n",
       "  </tbody>\n",
       "</table>\n",
       "</div>"
      ],
      "text/plain": [
       "       length\n",
       "label        \n",
       "0          89\n",
       "1         103"
      ]
     },
     "execution_count": 27,
     "metadata": {},
     "output_type": "execute_result"
    }
   ],
   "source": [
    "label_median_lengths = tweet_lengths[['label', 'length']].groupby('label').median()\n",
    "label_median_lengths"
   ]
  },
  {
   "cell_type": "code",
   "execution_count": 28,
   "id": "403f1b7d",
   "metadata": {},
   "outputs": [
    {
     "data": {
      "image/png": "[encoded data removed]",
      "text/plain": [
       "<Figure size 576x396 with 1 Axes>"
      ]
     },
     "metadata": {},
     "output_type": "display_data"
    }
   ],
   "source": [
    "plt.bar(label_median_lengths.index, label_median_lengths.length, color=['g', 'r'])\n",
    "plt.xticks(range(2), [Labels.NON_HARMFUL.value, Labels.HARMFUL.value])\n",
    "\n",
    "plt.xticks(range(2), [Labels.NON_HARMFUL.name, Labels.HARMFUL.name])\n",
    "plt.title('Median tweet length by class')\n",
    "plt.show()"
   ]
  },
  {
   "cell_type": "markdown",
   "id": "e20a20da",
   "metadata": {},
   "source": [
    "In most cases a negative tweet is longer.\n",
    "Adding a `length` column to the training dataset may be a good idea"
   ]
  },
  {
   "cell_type": "markdown",
   "id": "f6f259a2",
   "metadata": {},
   "source": [
    "## Word Counts (Bag-of-Words)"
   ]
  },
  {
   "cell_type": "markdown",
   "id": "953fc650",
   "metadata": {},
   "source": [
    "Counting each word occurrences in every tweet "
   ]
  },
  {
   "cell_type": "code",
   "execution_count": 29,
   "id": "6a4a993c",
   "metadata": {},
   "outputs": [],
   "source": [
    "count_vectorizer = CountVectorizer()"
   ]
  },
  {
   "cell_type": "code",
   "execution_count": 30,
   "id": "eb00b5bf",
   "metadata": {
    "scrolled": false
   },
   "outputs": [
    {
     "data": {
      "text/plain": [
       "['biedak',\n",
       " 'biedaku',\n",
       " 'biedna',\n",
       " 'biedne',\n",
       " 'biednego',\n",
       " 'biedni',\n",
       " 'biedniejsze',\n",
       " 'biedniejszych',\n",
       " 'biedny',\n",
       " 'biedronce',\n",
       " 'biedronka',\n",
       " 'biedronki',\n",
       " 'biedroń',\n",
       " 'biedy',\n",
       " 'biedę',\n",
       " 'bieg',\n",
       " 'biega',\n",
       " 'biegali',\n",
       " 'biegam',\n",
       " 'biegania']"
      ]
     },
     "execution_count": 30,
     "metadata": {},
     "output_type": "execute_result"
    }
   ],
   "source": [
    "cv_transformed = count_vectorizer.fit_transform(df['text']).toarray()\n",
    "count_vectorizer.get_feature_names()[1000:1020]"
   ]
  },
  {
   "cell_type": "code",
   "execution_count": 31,
   "id": "a8c6d3ae",
   "metadata": {},
   "outputs": [
    {
     "data": {
      "text/html": [
       "<div>\n",
       "<style scoped>\n",
       "    .dataframe tbody tr th:only-of-type {\n",
       "        vertical-align: middle;\n",
       "    }\n",
       "\n",
       "    .dataframe tbody tr th {\n",
       "        vertical-align: top;\n",
       "    }\n",
       "\n",
       "    .dataframe thead th {\n",
       "        text-align: right;\n",
       "    }\n",
       "</style>\n",
       "<table border=\"1\" class=\"dataframe\">\n",
       "  <thead>\n",
       "    <tr style=\"text-align: right;\">\n",
       "      <th></th>\n",
       "      <th>00</th>\n",
       "      <th>01</th>\n",
       "      <th>02s91ipder</th>\n",
       "      <th>03</th>\n",
       "      <th>04</th>\n",
       "      <th>06</th>\n",
       "      <th>0888888888</th>\n",
       "      <th>0jdgav1mow</th>\n",
       "      <th>0q4pyaqhlz</th>\n",
       "      <th>0sxlbtcpgh</th>\n",
       "      <th>...</th>\n",
       "      <th>żądza</th>\n",
       "      <th>żądło</th>\n",
       "      <th>żłobu</th>\n",
       "      <th>лайка</th>\n",
       "      <th>איזה</th>\n",
       "      <th>הנשיא</th>\n",
       "      <th>מצוין</th>\n",
       "      <th>פולני</th>\n",
       "      <th>רעיון</th>\n",
       "      <th>של</th>\n",
       "    </tr>\n",
       "  </thead>\n",
       "  <tbody>\n",
       "    <tr>\n",
       "      <th>0</th>\n",
       "      <td>0</td>\n",
       "      <td>0</td>\n",
       "      <td>0</td>\n",
       "      <td>0</td>\n",
       "      <td>0</td>\n",
       "      <td>0</td>\n",
       "      <td>0</td>\n",
       "      <td>0</td>\n",
       "      <td>0</td>\n",
       "      <td>0</td>\n",
       "      <td>...</td>\n",
       "      <td>0</td>\n",
       "      <td>0</td>\n",
       "      <td>0</td>\n",
       "      <td>0</td>\n",
       "      <td>0</td>\n",
       "      <td>0</td>\n",
       "      <td>0</td>\n",
       "      <td>0</td>\n",
       "      <td>0</td>\n",
       "      <td>0</td>\n",
       "    </tr>\n",
       "    <tr>\n",
       "      <th>1</th>\n",
       "      <td>0</td>\n",
       "      <td>0</td>\n",
       "      <td>0</td>\n",
       "      <td>0</td>\n",
       "      <td>0</td>\n",
       "      <td>0</td>\n",
       "      <td>0</td>\n",
       "      <td>0</td>\n",
       "      <td>0</td>\n",
       "      <td>0</td>\n",
       "      <td>...</td>\n",
       "      <td>0</td>\n",
       "      <td>0</td>\n",
       "      <td>0</td>\n",
       "      <td>0</td>\n",
       "      <td>0</td>\n",
       "      <td>0</td>\n",
       "      <td>0</td>\n",
       "      <td>0</td>\n",
       "      <td>0</td>\n",
       "      <td>0</td>\n",
       "    </tr>\n",
       "    <tr>\n",
       "      <th>2</th>\n",
       "      <td>0</td>\n",
       "      <td>0</td>\n",
       "      <td>0</td>\n",
       "      <td>0</td>\n",
       "      <td>0</td>\n",
       "      <td>0</td>\n",
       "      <td>0</td>\n",
       "      <td>0</td>\n",
       "      <td>0</td>\n",
       "      <td>0</td>\n",
       "      <td>...</td>\n",
       "      <td>0</td>\n",
       "      <td>0</td>\n",
       "      <td>0</td>\n",
       "      <td>0</td>\n",
       "      <td>0</td>\n",
       "      <td>0</td>\n",
       "      <td>0</td>\n",
       "      <td>0</td>\n",
       "      <td>0</td>\n",
       "      <td>0</td>\n",
       "    </tr>\n",
       "    <tr>\n",
       "      <th>3</th>\n",
       "      <td>0</td>\n",
       "      <td>0</td>\n",
       "      <td>0</td>\n",
       "      <td>0</td>\n",
       "      <td>0</td>\n",
       "      <td>0</td>\n",
       "      <td>0</td>\n",
       "      <td>0</td>\n",
       "      <td>0</td>\n",
       "      <td>0</td>\n",
       "      <td>...</td>\n",
       "      <td>0</td>\n",
       "      <td>0</td>\n",
       "      <td>0</td>\n",
       "      <td>0</td>\n",
       "      <td>0</td>\n",
       "      <td>0</td>\n",
       "      <td>0</td>\n",
       "      <td>0</td>\n",
       "      <td>0</td>\n",
       "      <td>0</td>\n",
       "    </tr>\n",
       "    <tr>\n",
       "      <th>4</th>\n",
       "      <td>0</td>\n",
       "      <td>0</td>\n",
       "      <td>0</td>\n",
       "      <td>0</td>\n",
       "      <td>0</td>\n",
       "      <td>0</td>\n",
       "      <td>0</td>\n",
       "      <td>0</td>\n",
       "      <td>0</td>\n",
       "      <td>0</td>\n",
       "      <td>...</td>\n",
       "      <td>0</td>\n",
       "      <td>0</td>\n",
       "      <td>0</td>\n",
       "      <td>0</td>\n",
       "      <td>0</td>\n",
       "      <td>0</td>\n",
       "      <td>0</td>\n",
       "      <td>0</td>\n",
       "      <td>0</td>\n",
       "      <td>0</td>\n",
       "    </tr>\n",
       "  </tbody>\n",
       "</table>\n",
       "<p>5 rows × 22872 columns</p>\n",
       "</div>"
      ],
      "text/plain": [
       "   00  01  02s91ipder  03  04  06  0888888888  0jdgav1mow  0q4pyaqhlz  \\\n",
       "0   0   0           0   0   0   0           0           0           0   \n",
       "1   0   0           0   0   0   0           0           0           0   \n",
       "2   0   0           0   0   0   0           0           0           0   \n",
       "3   0   0           0   0   0   0           0           0           0   \n",
       "4   0   0           0   0   0   0           0           0           0   \n",
       "\n",
       "   0sxlbtcpgh  ...  żądza  żądło  żłobu  лайка  איזה  הנשיא  מצוין  פולני  \\\n",
       "0           0  ...      0      0      0      0     0      0      0      0   \n",
       "1           0  ...      0      0      0      0     0      0      0      0   \n",
       "2           0  ...      0      0      0      0     0      0      0      0   \n",
       "3           0  ...      0      0      0      0     0      0      0      0   \n",
       "4           0  ...      0      0      0      0     0      0      0      0   \n",
       "\n",
       "   רעיון  של  \n",
       "0      0   0  \n",
       "1      0   0  \n",
       "2      0   0  \n",
       "3      0   0  \n",
       "4      0   0  \n",
       "\n",
       "[5 rows x 22872 columns]"
      ]
     },
     "execution_count": 31,
     "metadata": {},
     "output_type": "execute_result"
    }
   ],
   "source": [
    "df_cv = pd.DataFrame(cv_transformed, columns=count_vectorizer.get_feature_names())\n",
    "df_cv.head()"
   ]
  },
  {
   "cell_type": "markdown",
   "id": "bfaeb970",
   "metadata": {},
   "source": [
    "- ### Number of words per tweet"
   ]
  },
  {
   "cell_type": "code",
   "execution_count": 32,
   "id": "75ff9e4a",
   "metadata": {},
   "outputs": [
    {
     "data": {
      "text/plain": [
       "0        12\n",
       "1        11\n",
       "2        13\n",
       "3         7\n",
       "4         6\n",
       "         ..\n",
       "10036     5\n",
       "10037    16\n",
       "10038     8\n",
       "10039    14\n",
       "10040     6\n",
       "Length: 10041, dtype: int64"
      ]
     },
     "execution_count": 32,
     "metadata": {},
     "output_type": "execute_result"
    }
   ],
   "source": [
    "num_words_per_tweet = df_cv.sum(axis=1)\n",
    "num_words_per_tweet"
   ]
  },
  {
   "cell_type": "markdown",
   "id": "d222c12c",
   "metadata": {},
   "source": [
    "- Average and Median number of words per tweet "
   ]
  },
  {
   "cell_type": "code",
   "execution_count": 33,
   "id": "ebe37eae",
   "metadata": {},
   "outputs": [
    {
     "name": "stdout",
     "output_type": "stream",
     "text": [
      "Average number of words in a tweet: 11\n",
      "Median number of words in a tweet: 11\n"
     ]
    }
   ],
   "source": [
    "print(f'Average number of words in a tweet: {int(np.mean(num_words_per_tweet))}')\n",
    "print(f'Median number of words in a tweet: {int(np.median(num_words_per_tweet))}')"
   ]
  },
  {
   "cell_type": "code",
   "execution_count": 34,
   "id": "100b0784",
   "metadata": {},
   "outputs": [
    {
     "name": "stdout",
     "output_type": "stream",
     "text": [
      "Average number of words in a tweet: 11\n",
      "Median number of words in a tweet: 11\n"
     ]
    }
   ],
   "source": [
    "print(f'Average number of words in a tweet: {int(np.mean(num_words_per_tweet))}')\n",
    "print(f'Median number of words in a tweet: {int(np.median(num_words_per_tweet))}')"
   ]
  },
  {
   "cell_type": "markdown",
   "id": "3ae84660",
   "metadata": {},
   "source": [
    "- Distribution of the number of words per tweet"
   ]
  },
  {
   "cell_type": "code",
   "execution_count": 35,
   "id": "c619110d",
   "metadata": {},
   "outputs": [
    {
     "data": {
      "image/png": "[encoded data removed]",
      "text/plain": [
       "<Figure size 720x360 with 1 Axes>"
      ]
     },
     "metadata": {},
     "output_type": "display_data"
    }
   ],
   "source": [
    "plt.figure(figsize=(10, 5))\n",
    "sns.histplot(num_words_per_tweet, bins=15, kde=True, color='blue')\n",
    "\n",
    "plt.show()"
   ]
  },
  {
   "cell_type": "markdown",
   "id": "7070f95e",
   "metadata": {},
   "source": [
    "Right skewed distribution"
   ]
  },
  {
   "cell_type": "markdown",
   "id": "31922f23",
   "metadata": {},
   "source": [
    "- Distribution of the number of words for each class"
   ]
  },
  {
   "cell_type": "code",
   "execution_count": 36,
   "id": "180aebaa",
   "metadata": {},
   "outputs": [
    {
     "data": {
      "image/png": "[encoded data removed]",
      "text/plain": [
       "<Figure size 720x360 with 1 Axes>"
      ]
     },
     "metadata": {},
     "output_type": "display_data"
    }
   ],
   "source": [
    "plt.figure(figsize=(10, 5))\n",
    "g = sns.histplot(x=num_words_per_tweet, bins=30, kde=True, hue=df['label'], palette=hue_colors)\n",
    "g.set_title('Number of words per tweet')\n",
    "plt.show()"
   ]
  },
  {
   "cell_type": "markdown",
   "id": "c7810ee6",
   "metadata": {},
   "source": [
    "As previously, the number of classes is not well distributed, let's examine the distribution for each class separately"
   ]
  },
  {
   "cell_type": "markdown",
   "id": "6a5d5480",
   "metadata": {},
   "source": [
    "- #### Non-harmful"
   ]
  },
  {
   "cell_type": "code",
   "execution_count": 37,
   "id": "df235517",
   "metadata": {},
   "outputs": [
    {
     "data": {
      "image/png": "[encoded data removed]",
      "text/plain": [
       "<Figure size 720x360 with 1 Axes>"
      ]
     },
     "metadata": {},
     "output_type": "display_data"
    }
   ],
   "source": [
    "plt.figure(figsize=(10, 5))\n",
    "g = sns.histplot(x=num_words_per_tweet[df['label'] == Labels.NON_HARMFUL.value], bins=30, kde=True, color='g')\n",
    "g.set_title('Number of words per non-harmful tweet')\n",
    "plt.show()"
   ]
  },
  {
   "cell_type": "markdown",
   "id": "93ec07f8",
   "metadata": {},
   "source": [
    "Right skewed distribution"
   ]
  },
  {
   "cell_type": "markdown",
   "id": "b60dfe20",
   "metadata": {},
   "source": [
    "- Calculating the mode"
   ]
  },
  {
   "cell_type": "code",
   "execution_count": 38,
   "id": "90fab69f",
   "metadata": {},
   "outputs": [
    {
     "data": {
      "text/plain": [
       "0    7\n",
       "dtype: int64"
      ]
     },
     "execution_count": 38,
     "metadata": {},
     "output_type": "execute_result"
    }
   ],
   "source": [
    "num_words_per_tweet[df['label'] == Labels.NON_HARMFUL.value].mode()"
   ]
  },
  {
   "cell_type": "markdown",
   "id": "1cfe0b1a",
   "metadata": {},
   "source": [
    "Non harmful tweets have in most cases a length of 6-7 words"
   ]
  },
  {
   "cell_type": "markdown",
   "id": "5e8c02b2",
   "metadata": {},
   "source": [
    "- #### Harmful"
   ]
  },
  {
   "cell_type": "code",
   "execution_count": 39,
   "id": "336a34d9",
   "metadata": {},
   "outputs": [
    {
     "data": {
      "image/png": "[encoded data removed]",
      "text/plain": [
       "<Figure size 720x360 with 1 Axes>"
      ]
     },
     "metadata": {},
     "output_type": "display_data"
    }
   ],
   "source": [
    "plt.figure(figsize=(10, 5))\n",
    "g = sns.histplot(x=num_words_per_tweet[df['label'] == Labels.HARMFUL.value], bins=20, kde=True, color='r')\n",
    "g.set_title('Number of words per harmful tweet')\n",
    "plt.show()"
   ]
  },
  {
   "cell_type": "markdown",
   "id": "fe51f80b",
   "metadata": {},
   "source": [
    "Seems to be a normal distribution"
   ]
  },
  {
   "cell_type": "markdown",
   "id": "4245c7ac",
   "metadata": {},
   "source": [
    "- Mode"
   ]
  },
  {
   "cell_type": "code",
   "execution_count": 40,
   "id": "c1ffacc4",
   "metadata": {},
   "outputs": [
    {
     "data": {
      "text/plain": [
       "0    12\n",
       "dtype: int64"
      ]
     },
     "execution_count": 40,
     "metadata": {},
     "output_type": "execute_result"
    }
   ],
   "source": [
    "num_words_per_tweet[df['label'] == Labels.HARMFUL.value].mode()"
   ]
  },
  {
   "cell_type": "markdown",
   "id": "ddbdb93b",
   "metadata": {},
   "source": [
    "Harmful tweets have in most cases a length of 11-12 words"
   ]
  },
  {
   "cell_type": "markdown",
   "id": "710fc776",
   "metadata": {},
   "source": [
    "The analysis above shows us, that adding a column with the number of words in a tweet could be a good idea, as the number of words differs for each class"
   ]
  },
  {
   "cell_type": "markdown",
   "id": "0417909f",
   "metadata": {},
   "source": [
    "    Of course, in the calculations above we did include the all numbers and symbols, however we are exploring the raw dataset for now. Further evaluation should be performed after removing numbers, emoji's and other symbols incorrecly recognized as words "
   ]
  },
  {
   "cell_type": "markdown",
   "id": "5457d05a",
   "metadata": {},
   "source": [
    "- #### Average and Median word length"
   ]
  },
  {
   "cell_type": "code",
   "execution_count": 41,
   "id": "bdc6ad70",
   "metadata": {},
   "outputs": [],
   "source": [
    "word_lengths = {word: len(word) for word in df_cv.columns}"
   ]
  },
  {
   "cell_type": "code",
   "execution_count": 42,
   "id": "16b6c02d",
   "metadata": {},
   "outputs": [
    {
     "data": {
      "image/png": "[encoded data removed]",
      "text/plain": [
       "<Figure size 720x360 with 1 Axes>"
      ]
     },
     "metadata": {},
     "output_type": "display_data"
    }
   ],
   "source": [
    "plt.figure(figsize=(10, 5))\n",
    "g = sns.histplot(x=word_lengths.values(), bins=20)\n",
    "g.set_title('Word lengths')\n",
    "plt.show()"
   ]
  },
  {
   "cell_type": "markdown",
   "id": "e441e408",
   "metadata": {},
   "source": [
    "- ## Most frequent words"
   ]
  },
  {
   "cell_type": "code",
   "execution_count": 43,
   "id": "50a05b00",
   "metadata": {},
   "outputs": [
    {
     "data": {
      "text/plain": [
       "00            25\n",
       "01             5\n",
       "02s91ipder     1\n",
       "03             1\n",
       "04             1\n",
       "              ..\n",
       "הנשיא          2\n",
       "מצוין          2\n",
       "פולני          2\n",
       "רעיון          2\n",
       "של             2\n",
       "Length: 22872, dtype: int64"
      ]
     },
     "execution_count": 43,
     "metadata": {},
     "output_type": "execute_result"
    }
   ],
   "source": [
    "word_occurrences = df_cv.sum(axis=0)\n",
    "word_occurrences"
   ]
  },
  {
   "cell_type": "code",
   "execution_count": 44,
   "id": "809fe697",
   "metadata": {},
   "outputs": [
    {
     "data": {
      "text/plain": [
       "count    22872.000000\n",
       "mean         4.943555\n",
       "std        100.021885\n",
       "min          1.000000\n",
       "25%          1.000000\n",
       "50%          1.000000\n",
       "75%          2.000000\n",
       "max      13762.000000\n",
       "dtype: float64"
      ]
     },
     "execution_count": 44,
     "metadata": {},
     "output_type": "execute_result"
    }
   ],
   "source": [
    "word_occurrences.describe()"
   ]
  },
  {
   "cell_type": "code",
   "execution_count": 45,
   "id": "fa2c77ae",
   "metadata": {},
   "outputs": [
    {
     "data": {
      "text/plain": [
       "anonymized_account    13762\n",
       "nie                    3131\n",
       "to                     2991\n",
       "na                     2093\n",
       "się                    1803\n",
       "                      ...  \n",
       "niszczysz                 1\n",
       "tottenham                 1\n",
       "towar                     1\n",
       "nistety                   1\n",
       "patosem                   1\n",
       "Length: 22872, dtype: int64"
      ]
     },
     "execution_count": 45,
     "metadata": {},
     "output_type": "execute_result"
    }
   ],
   "source": [
    "sorted_word_occurrences = word_occurrences.sort_values(ascending=False)\n",
    "sorted_word_occurrences"
   ]
  },
  {
   "cell_type": "code",
   "execution_count": 46,
   "id": "10e475d2",
   "metadata": {},
   "outputs": [
    {
     "data": {
      "text/plain": [
       "22872"
      ]
     },
     "execution_count": 46,
     "metadata": {},
     "output_type": "execute_result"
    }
   ],
   "source": [
    "num_words = len(word_occurrences)\n",
    "num_words"
   ]
  },
  {
   "cell_type": "code",
   "execution_count": 47,
   "id": "e17a6ebb",
   "metadata": {},
   "outputs": [
    {
     "data": {
      "text/plain": [
       "9427"
      ]
     },
     "execution_count": 47,
     "metadata": {},
     "output_type": "execute_result"
    }
   ],
   "source": [
    "np.sum(word_occurrences > 1)"
   ]
  },
  {
   "cell_type": "code",
   "execution_count": 48,
   "id": "8d713a70",
   "metadata": {},
   "outputs": [
    {
     "data": {
      "text/plain": [
       "0.41216334382651276"
      ]
     },
     "execution_count": 48,
     "metadata": {},
     "output_type": "execute_result"
    }
   ],
   "source": [
    "np.sum(word_occurrences > 1) / num_words"
   ]
  },
  {
   "cell_type": "markdown",
   "id": "899707b6",
   "metadata": {},
   "source": [
    "60% of all words occur only once, lets examine the distribution"
   ]
  },
  {
   "cell_type": "code",
   "execution_count": 49,
   "id": "e331f766",
   "metadata": {},
   "outputs": [
    {
     "data": {
      "image/png": "[encoded data removed]",
      "text/plain": [
       "<Figure size 720x360 with 1 Axes>"
      ]
     },
     "metadata": {},
     "output_type": "display_data"
    }
   ],
   "source": [
    "plt.figure(figsize=(10, 5))\n",
    "g = sns.barplot(x=sorted_word_occurrences[:25].index, y=sorted_word_occurrences[:25].values, color='mediumseagreen')\n",
    "g.set_title('Most frequent words')\n",
    "plt.xticks(rotation=90)\n",
    "plt.show()"
   ]
  },
  {
   "cell_type": "markdown",
   "id": "3b6dcdab",
   "metadata": {},
   "source": [
    "Exponential distribution (Long tail)"
   ]
  },
  {
   "cell_type": "markdown",
   "id": "2be81d0d",
   "metadata": {},
   "source": [
    "As we can see, most of these are stop words, let's remove them and get the most frequent ones."
   ]
  },
  {
   "cell_type": "markdown",
   "id": "57492195",
   "metadata": {},
   "source": [
    "### Temporarily removing Polish stopwords, to get the most frequent words of the dataset"
   ]
  },
  {
   "cell_type": "markdown",
   "id": "ce7bd75f",
   "metadata": {},
   "source": [
    "- #### Removing new line chars"
   ]
  },
  {
   "cell_type": "code",
   "execution_count": 50,
   "id": "8efab006",
   "metadata": {},
   "outputs": [],
   "source": [
    "def filter_newline(text):\n",
    "    return text.replace('\\\\n', ' ').replace('\\\\r', ' ')"
   ]
  },
  {
   "cell_type": "code",
   "execution_count": 51,
   "id": "e974bdd0",
   "metadata": {},
   "outputs": [
    {
     "data": {
      "text/plain": [
       "0    dla mnie faworytem do tytułu będzie cracovia. ...\n",
       "1    @anonymized_account @anonymized_account brawo ...\n",
       "2    @anonymized_account @anonymized_account super,...\n",
       "3    @anonymized_account @anonymized_account musi. ...\n",
       "4      odrzut natychmiastowy, kwaśna mina, mam problem\n",
       "Name: text, dtype: object"
      ]
     },
     "execution_count": 51,
     "metadata": {},
     "output_type": "execute_result"
    }
   ],
   "source": [
    "filtered_df = df['text'].str.lower().apply(filter_newline)\n",
    "filtered_df.head()"
   ]
  },
  {
   "cell_type": "markdown",
   "id": "b31b1748",
   "metadata": {},
   "source": [
    "- #### Removing links"
   ]
  },
  {
   "cell_type": "code",
   "execution_count": 52,
   "id": "26bbe2ae",
   "metadata": {},
   "outputs": [],
   "source": [
    "url_pattern = r'((www.[^s]+)|(https?://[^s]+))'\n",
    "# url_pattern = r'[-a-zA-Z0-9@:%._\\+~#=]{1,256}\\.[a-zA-Z0-9()]{1,6}\\b([-a-zA-Z0-9()@:%_\\+.~#?&//=]*)'"
   ]
  },
  {
   "cell_type": "code",
   "execution_count": 53,
   "id": "fe2a62c8",
   "metadata": {},
   "outputs": [],
   "source": [
    "def filter_url(text, url_pattern):\n",
    "    return re.sub(url_pattern, ' ', text)"
   ]
  },
  {
   "cell_type": "code",
   "execution_count": 54,
   "id": "4b9c1018",
   "metadata": {},
   "outputs": [
    {
     "data": {
      "text/plain": [
       "0    dla mnie faworytem do tytułu będzie cracovia. ...\n",
       "1    @anonymized_account @anonymized_account brawo ...\n",
       "2    @anonymized_account @anonymized_account super,...\n",
       "3    @anonymized_account @anonymized_account musi. ...\n",
       "4      odrzut natychmiastowy, kwaśna mina, mam problem\n",
       "Name: text, dtype: object"
      ]
     },
     "execution_count": 54,
     "metadata": {},
     "output_type": "execute_result"
    }
   ],
   "source": [
    "filtered_df = filtered_df.apply(lambda x: filter_url(x, url_pattern))\n",
    "filtered_df.head()"
   ]
  },
  {
   "cell_type": "markdown",
   "id": "ae66ec61",
   "metadata": {},
   "source": [
    "- #### Removing numbers"
   ]
  },
  {
   "cell_type": "code",
   "execution_count": 55,
   "id": "9e2c0819",
   "metadata": {},
   "outputs": [],
   "source": [
    "def filter_numbers(text):\n",
    "    number_pattern = r'[0-9]+'\n",
    "    return re.sub(number_pattern, '', text)"
   ]
  },
  {
   "cell_type": "code",
   "execution_count": 56,
   "id": "23c1ab95",
   "metadata": {},
   "outputs": [
    {
     "data": {
      "text/plain": [
       "0    dla mnie faworytem do tytułu będzie cracovia. ...\n",
       "1    @anonymized_account @anonymized_account brawo ...\n",
       "2    @anonymized_account @anonymized_account super,...\n",
       "3    @anonymized_account @anonymized_account musi. ...\n",
       "4      odrzut natychmiastowy, kwaśna mina, mam problem\n",
       "Name: text, dtype: object"
      ]
     },
     "execution_count": 56,
     "metadata": {},
     "output_type": "execute_result"
    }
   ],
   "source": [
    "filtered_df = filtered_df.apply(filter_numbers)\n",
    "filtered_df.head()"
   ]
  },
  {
   "cell_type": "markdown",
   "id": "7439ef0b",
   "metadata": {},
   "source": [
    "- #### Filter non ASCII characters"
   ]
  },
  {
   "cell_type": "code",
   "execution_count": 57,
   "id": "d3f2b98e",
   "metadata": {},
   "outputs": [],
   "source": [
    "def filter_ascii(text):\n",
    "    return re.sub(r'[^\\x00-\\x7F\\x80-\\xFF\\u0100-\\u017F\\u0180-\\u024F\\u1E00-\\u1EFF]', '', text) "
   ]
  },
  {
   "cell_type": "code",
   "execution_count": 58,
   "id": "d6d7230e",
   "metadata": {},
   "outputs": [
    {
     "data": {
      "text/plain": [
       "0    dla mnie faworytem do tytułu będzie cracovia. ...\n",
       "1    @anonymized_account @anonymized_account brawo ...\n",
       "2    @anonymized_account @anonymized_account super,...\n",
       "3    @anonymized_account @anonymized_account musi. ...\n",
       "4      odrzut natychmiastowy, kwaśna mina, mam problem\n",
       "Name: text, dtype: object"
      ]
     },
     "execution_count": 58,
     "metadata": {},
     "output_type": "execute_result"
    }
   ],
   "source": [
    "filtered_df = filtered_df.apply(filter_ascii)\n",
    "filtered_df.head()"
   ]
  },
  {
   "cell_type": "markdown",
   "id": "61b50a70",
   "metadata": {},
   "source": [
    "- #### Removing punctuations"
   ]
  },
  {
   "cell_type": "code",
   "execution_count": 60,
   "id": "829a5a9a",
   "metadata": {},
   "outputs": [],
   "source": [
    "# def filter_punctuations(words, punctuations):\n",
    "#     return list(filter(lambda x: x not in punctuations, words))\n",
    "\n",
    "def filter_punctuations(text, punctuations):\n",
    "    translator = str.maketrans('', '', punctuations)\n",
    "    return text.translate(translator)"
   ]
  },
  {
   "cell_type": "code",
   "execution_count": 61,
   "id": "fb5b9dea",
   "metadata": {},
   "outputs": [
    {
     "data": {
      "text/plain": [
       "0        dla mnie faworytem do tytułu będzie cracovia z...\n",
       "1        anonymizedaccount anonymizedaccount brawo ty d...\n",
       "2        anonymizedaccount anonymizedaccount super pols...\n",
       "3        anonymizedaccount anonymizedaccount musi innej...\n",
       "4            odrzut natychmiastowy kwaśna mina mam problem\n",
       "                               ...                        \n",
       "10036         anonymizedaccount ty zagrasz nie wiedziałem \n",
       "10037    anonymizedaccount anonymizedaccount a var nie ...\n",
       "10038    anonymizedaccount anonymizedaccount szanowany ...\n",
       "10039    anonymizedaccount anonymizedaccount anonymized...\n",
       "10040    anonymizedaccount a wróżbita maciej mówi że zr...\n",
       "Name: text, Length: 10041, dtype: object"
      ]
     },
     "execution_count": 61,
     "metadata": {},
     "output_type": "execute_result"
    }
   ],
   "source": [
    "filtered_df = filtered_df.apply(lambda x: filter_punctuations(x, string.punctuation))\n",
    "filtered_df"
   ]
  },
  {
   "cell_type": "markdown",
   "id": "01fdc402",
   "metadata": {},
   "source": [
    "- #### Lemmatization"
   ]
  },
  {
   "cell_type": "code",
   "execution_count": 62,
   "id": "d647dff4",
   "metadata": {},
   "outputs": [],
   "source": [
    "import spacy"
   ]
  },
  {
   "cell_type": "code",
   "execution_count": 63,
   "id": "3ba47ea5",
   "metadata": {},
   "outputs": [],
   "source": [
    "lemma_model = spacy.load('pl_core_news_sm')"
   ]
  },
  {
   "cell_type": "code",
   "execution_count": 64,
   "id": "bcad64a1",
   "metadata": {},
   "outputs": [],
   "source": [
    "def lemmatize_sentence(lemma_model, text):\n",
    "    doc = lemma_model(text)\n",
    "    return ' '.join([token.lemma_ for token in doc])"
   ]
  },
  {
   "cell_type": "code",
   "execution_count": 65,
   "id": "6519d188",
   "metadata": {},
   "outputs": [
    {
     "data": {
      "text/plain": [
       "0    dla ja faworyt do tytuł być cracovia zobaczyć ...\n",
       "1    anonymizedaccount anonymizedaccount brawo ty d...\n",
       "2    anonymizedaccount anonymizedaccount super pols...\n",
       "3    anonymizedaccount anonymizedaccount musić inny...\n",
       "4       odrzut natychmiastowy kwaśna mina mieć problem\n",
       "Name: text, dtype: object"
      ]
     },
     "execution_count": 65,
     "metadata": {},
     "output_type": "execute_result"
    }
   ],
   "source": [
    "df_lemmatized = filtered_df.apply(lambda x: lemmatize_sentence(lemma_model, x))\n",
    "df_lemmatized.head()"
   ]
  },
  {
   "cell_type": "markdown",
   "id": "8292b6ec",
   "metadata": {},
   "source": [
    "- #### Tokenizing words"
   ]
  },
  {
   "cell_type": "code",
   "execution_count": 66,
   "id": "5bf8d07c",
   "metadata": {},
   "outputs": [],
   "source": [
    "# import nltk\n",
    "# nltk.download('stopwords')\n",
    "# nltk.download('punkt')\n",
    "from nltk.corpus import stopwords\n",
    "from nltk.tokenize import TweetTokenizer #, word_tokenize"
   ]
  },
  {
   "cell_type": "code",
   "execution_count": 67,
   "id": "9bf9ceb1",
   "metadata": {},
   "outputs": [],
   "source": [
    "tweet_tokenizer = TweetTokenizer()"
   ]
  },
  {
   "cell_type": "code",
   "execution_count": 68,
   "id": "bf945714",
   "metadata": {},
   "outputs": [
    {
     "data": {
      "text/plain": [
       "0        [dla, ja, faworyt, do, tytuł, być, cracovia, z...\n",
       "1        [anonymizedaccount, anonymizedaccount, brawo, ...\n",
       "2        [anonymizedaccount, anonymizedaccount, super, ...\n",
       "3        [anonymizedaccount, anonymizedaccount, musić, ...\n",
       "4        [odrzut, natychmiastowy, kwaśna, mina, mieć, p...\n",
       "                               ...                        \n",
       "10036       [anonymizedaccount, ty, zagrać, nie, wiedzieć]\n",
       "10037    [anonymizedaccount, anonymizedaccount, a, var,...\n",
       "10038    [anonymizedaccount, anonymizedaccount, szanowa...\n",
       "10039    [anonymizedaccount, anonymizedaccount, anonymi...\n",
       "10040    [anonymizedaccount, a, wróżbit, maciej, mówić,...\n",
       "Name: text, Length: 10041, dtype: object"
      ]
     },
     "execution_count": 68,
     "metadata": {},
     "output_type": "execute_result"
    }
   ],
   "source": [
    "tokenized_df = df_lemmatized.apply(tweet_tokenizer.tokenize)\n",
    "tokenized_df"
   ]
  },
  {
   "cell_type": "markdown",
   "id": "0cb4d98c",
   "metadata": {},
   "source": [
    "- #### Removing stop words"
   ]
  },
  {
   "cell_type": "markdown",
   "id": "09654e33",
   "metadata": {},
   "source": [
    "Loading polish stop words"
   ]
  },
  {
   "cell_type": "code",
   "execution_count": 69,
   "id": "bb284cc4",
   "metadata": {},
   "outputs": [
    {
     "name": "stdout",
     "output_type": "stream",
     "text": [
      "['a', 'aby', 'ach', 'acz', 'aczkolwiek', 'aj', 'albo', 'ale', 'alez', 'ależ', 'ani', 'az', 'aż', 'bardziej', 'bardzo', 'beda', 'bedzie', 'bez', 'deda', 'będą', 'bede', 'będę', 'będzie', 'bo', 'bowiem', 'by', 'byc', 'być', 'byl', 'byla', 'byli', 'bylo', 'byly', 'był', 'była', 'było', 'były', 'bynajmniej', 'cala', 'cali', 'caly', 'cała', 'cały', 'ci', 'cie', 'ciebie', 'cię', 'co', 'cokolwiek', 'cos', 'coś', 'czasami', 'czasem', 'czemu', 'czy', 'czyli', 'daleko', 'dla', 'dlaczego', 'dlatego', 'do', 'dobrze', 'dokad', 'dokąd', 'dosc', 'dość', 'duzo', 'dużo', 'dwa', 'dwaj', 'dwie', 'dwoje', 'dzis', 'dzisiaj', 'dziś', 'gdy', 'gdyby', 'gdyz', 'gdyż', 'gdzie', 'gdziekolwiek', 'gdzies', 'gdzieś', 'go', 'i', 'ich', 'ile', 'im', 'inna', 'inne', 'inny', 'innych', 'iz', 'iż', 'ja', 'jak', 'jakas', 'jakaś', 'jakby', 'jaki', 'jakichs', 'jakichś', 'jakie', 'jakis', 'jakiś', 'jakiz', 'jakiż', 'jakkolwiek', 'jako', 'jakos', 'jakoś', 'ją', 'je', 'jeden', 'jedna', 'jednak', 'jednakze', 'jednakże', 'jedno', 'jego', 'jej', 'jemu', 'jesli', 'jest', 'jestem', 'jeszcze', 'jeśli', 'jezeli', 'jeżeli', 'juz', 'już', 'kazdy', 'każdy', 'kiedy', 'kilka', 'kims', 'kimś', 'kto', 'ktokolwiek', 'ktora', 'ktore', 'ktorego', 'ktorej', 'ktory', 'ktorych', 'ktorym', 'ktorzy', 'ktos', 'ktoś', 'która', 'które', 'którego', 'której', 'który', 'których', 'którym', 'którzy', 'ku', 'lat', 'lecz', 'lub', 'ma', 'mają', 'mało', 'mam', 'mi', 'miedzy', 'między', 'mimo', 'mna', 'mną', 'mnie', 'moga', 'mogą', 'moi', 'moim', 'moj', 'moja', 'moje', 'moze', 'mozliwe', 'mozna', 'może', 'możliwe', 'można', 'mój', 'mu', 'musi', 'my', 'na', 'nad', 'nam', 'nami', 'nas', 'nasi', 'nasz', 'nasza', 'nasze', 'naszego', 'naszych', 'natomiast', 'natychmiast', 'nawet', 'nia', 'nią', 'nic', 'nich', 'nie', 'niech', 'niego', 'niej', 'niemu', 'nigdy', 'nim', 'nimi', 'niz', 'niż', 'no', 'o', 'obok', 'od', 'około', 'on', 'ona', 'one', 'oni', 'ono', 'oraz', 'oto', 'owszem', 'pan', 'pana', 'pani', 'po', 'pod', 'podczas', 'pomimo', 'ponad', 'poniewaz', 'ponieważ', 'powinien', 'powinna', 'powinni', 'powinno', 'poza', 'prawie', 'przeciez', 'przecież', 'przed', 'przede', 'przedtem', 'przez', 'przy', 'roku', 'rowniez', 'również', 'sam', 'sama', 'są', 'sie', 'się', 'skad', 'skąd', 'soba', 'sobą', 'sobie', 'sposob', 'sposób', 'swoje', 'ta', 'tak', 'taka', 'taki', 'takie', 'takze', 'także', 'tam', 'te', 'tego', 'tej', 'ten', 'teraz', 'też', 'to', 'toba', 'tobą', 'tobie', 'totez', 'toteż', 'totobą', 'trzeba', 'tu', 'tutaj', 'twoi', 'twoim', 'twoj', 'twoja', 'twoje', 'twój', 'twym', 'ty', 'tych', 'tylko', 'tym', 'u', 'w', 'wam', 'wami', 'was', 'wasz', 'wasza', 'wasze', 'we', 'według', 'wiele', 'wielu', 'więc', 'więcej', 'wlasnie', 'właśnie', 'wszyscy', 'wszystkich', 'wszystkie', 'wszystkim', 'wszystko', 'wtedy', 'wy', 'z', 'za', 'zaden', 'zadna', 'zadne', 'zadnych', 'zapewne', 'zawsze', 'ze', 'zeby', 'zeznowu', 'zł', 'znow', 'znowu', 'znów', 'zostal', 'został', 'żaden', 'żadna', 'żadne', 'żadnych', 'że', 'żeby']\n"
     ]
    }
   ],
   "source": [
    "polish_stopwords = set(stopwords.words('polish'))\n",
    "print(stopwords.words('polish'))"
   ]
  },
  {
   "cell_type": "code",
   "execution_count": 70,
   "id": "806915f9",
   "metadata": {},
   "outputs": [],
   "source": [
    "def filter_stopwords(words, stop_words_list):\n",
    "    return [word for word in words if word.lower() not in stop_words_list]"
   ]
  },
  {
   "cell_type": "markdown",
   "id": "b4376fac",
   "metadata": {},
   "source": [
    "Filtering polish stop words"
   ]
  },
  {
   "cell_type": "code",
   "execution_count": 71,
   "id": "046eda27",
   "metadata": {},
   "outputs": [
    {
     "data": {
      "text/plain": [
       "0        [faworyt, tytuł, cracovia, zobaczyć, typ, spra...\n",
       "1        [anonymizedaccount, anonymizedaccount, brawo, ...\n",
       "2        [anonymizedaccount, anonymizedaccount, super, ...\n",
       "3        [anonymizedaccount, anonymizedaccount, musić, ...\n",
       "4        [odrzut, natychmiastowy, kwaśna, mina, mieć, p...\n",
       "                               ...                        \n",
       "10036                [anonymizedaccount, zagrać, wiedzieć]\n",
       "10037    [anonymizedaccount, anonymizedaccount, var, mi...\n",
       "10038    [anonymizedaccount, anonymizedaccount, szanowa...\n",
       "10039    [anonymizedaccount, anonymizedaccount, anonymi...\n",
       "10040    [anonymizedaccount, wróżbit, maciej, mówić, zr...\n",
       "Name: text, Length: 10041, dtype: object"
      ]
     },
     "execution_count": 71,
     "metadata": {},
     "output_type": "execute_result"
    }
   ],
   "source": [
    "filtered_df_2 = tokenized_df.apply(lambda x: filter_stopwords(x, polish_stopwords))\n",
    "filtered_df_2"
   ]
  },
  {
   "cell_type": "markdown",
   "id": "d0838684",
   "metadata": {},
   "source": [
    "- #### Filter taggings"
   ]
  },
  {
   "cell_type": "code",
   "execution_count": 72,
   "id": "7387c187",
   "metadata": {},
   "outputs": [],
   "source": [
    "def filter_word(words, forbidden_words):\n",
    "    return [word for word in words if word not in forbidden_words]\n"
   ]
  },
  {
   "cell_type": "code",
   "execution_count": 73,
   "id": "86ecf5f6",
   "metadata": {},
   "outputs": [
    {
     "data": {
      "text/plain": [
       "0        [faworyt, tytuł, cracovia, zobaczyć, typ, spra...\n",
       "1                  [brawo, daria, kibic, mieć, dobry, zły]\n",
       "2        [super, polski, premiera, składać, kwiat, grób...\n",
       "3                                     [musić, droga, mieć]\n",
       "4        [odrzut, natychmiastowy, kwaśna, mina, mieć, p...\n",
       "                               ...                        \n",
       "10036                                   [zagrać, wiedzieć]\n",
       "10037    [var, mieć, poprawić, jakość, sędziowania, efe...\n",
       "10038                [szanowany, kolega, ładnie, pożegnać]\n",
       "10039    [mieć, bić, zwyciezca, liga, wojewódzki, grać,...\n",
       "10040                  [wróżbit, maciej, mówić, zrozumieć]\n",
       "Name: text, Length: 10041, dtype: object"
      ]
     },
     "execution_count": 73,
     "metadata": {},
     "output_type": "execute_result"
    }
   ],
   "source": [
    "filtered_df_2 = filtered_df_2.apply(lambda x: filter_word(x, {'anonymizedaccount', 'rt'}))\n",
    "filtered_df_2"
   ]
  },
  {
   "cell_type": "markdown",
   "id": "1a06577a",
   "metadata": {},
   "source": [
    "- #### Filter duplicate characters"
   ]
  },
  {
   "cell_type": "code",
   "execution_count": null,
   "id": "a25f75c1",
   "metadata": {},
   "outputs": [],
   "source": [
    "# def clean_repeting_char(text):\n",
    "    # return re.sub(r'(.)1+', r'1', text)\n",
    "    # return re.sub(r'(.)\\1+', r'.', text)"
   ]
  },
  {
   "cell_type": "markdown",
   "id": "1bff03b4",
   "metadata": {},
   "source": [
    "Back to text"
   ]
  },
  {
   "cell_type": "code",
   "execution_count": 74,
   "id": "0a768421",
   "metadata": {},
   "outputs": [],
   "source": [
    "def arr_to_string(arr):\n",
    "    return ' '.join(word for word in arr)"
   ]
  },
  {
   "cell_type": "code",
   "execution_count": 75,
   "id": "867cf511",
   "metadata": {},
   "outputs": [
    {
     "data": {
      "text/plain": [
       "0            faworyt tytuł cracovia zobaczyć typ sprawdzić\n",
       "1                         brawo daria kibic mieć dobry zły\n",
       "2        super polski premiera składać kwiat grób kolab...\n",
       "3                                         musić droga mieć\n",
       "4           odrzut natychmiastowy kwaśna mina mieć problem\n",
       "                               ...                        \n",
       "10036                                      zagrać wiedzieć\n",
       "10037    var mieć poprawić jakość sędziowania efekt koń...\n",
       "10038                     szanowany kolega ładnie pożegnać\n",
       "10039     mieć bić zwyciezca liga wojewódzki grać barazach\n",
       "10040                       wróżbit maciej mówić zrozumieć\n",
       "Name: text, Length: 10041, dtype: object"
      ]
     },
     "execution_count": 75,
     "metadata": {},
     "output_type": "execute_result"
    }
   ],
   "source": [
    "df_clean = filtered_df_2.apply(arr_to_string)\n",
    "df_clean"
   ]
  },
  {
   "cell_type": "markdown",
   "id": "0b998215",
   "metadata": {},
   "source": [
    "### Most frequent words after filtering"
   ]
  },
  {
   "cell_type": "code",
   "execution_count": 76,
   "id": "65bef5aa",
   "metadata": {},
   "outputs": [],
   "source": [
    "count_vectorizer_2 = CountVectorizer()"
   ]
  },
  {
   "cell_type": "code",
   "execution_count": 77,
   "id": "ff8130f8",
   "metadata": {},
   "outputs": [
    {
     "data": {
      "text/plain": [
       "['griezmann',\n",
       " 'griezmanna',\n",
       " 'gro',\n",
       " 'grobowiec',\n",
       " 'grodzickiego',\n",
       " 'gromadzenia',\n",
       " 'grosicki',\n",
       " 'grosickiego',\n",
       " 'grosickim',\n",
       " 'grosik',\n",
       " 'grosikkownaś',\n",
       " 'grosz',\n",
       " 'grosze',\n",
       " 'groszek',\n",
       " 'groteskowy',\n",
       " 'groza',\n",
       " 'groziles',\n",
       " 'grozić',\n",
       " 'grozićprofcentkiewiczowi',\n",
       " 'groźny']"
      ]
     },
     "execution_count": 77,
     "metadata": {},
     "output_type": "execute_result"
    }
   ],
   "source": [
    "cv_transformed_2 = count_vectorizer_2.fit_transform(df_clean).toarray()\n",
    "count_vectorizer_2.get_feature_names()[3000:3020]"
   ]
  },
  {
   "cell_type": "code",
   "execution_count": 78,
   "id": "cae5dcf0",
   "metadata": {},
   "outputs": [
    {
     "data": {
      "text/html": [
       "<div>\n",
       "<style scoped>\n",
       "    .dataframe tbody tr th:only-of-type {\n",
       "        vertical-align: middle;\n",
       "    }\n",
       "\n",
       "    .dataframe tbody tr th {\n",
       "        vertical-align: top;\n",
       "    }\n",
       "\n",
       "    .dataframe thead th {\n",
       "        text-align: right;\n",
       "    }\n",
       "</style>\n",
       "<table border=\"1\" class=\"dataframe\">\n",
       "  <thead>\n",
       "    <tr style=\"text-align: right;\">\n",
       "      <th></th>\n",
       "      <th>aa</th>\n",
       "      <th>aaaa</th>\n",
       "      <th>aaaaa</th>\n",
       "      <th>aaaaaa</th>\n",
       "      <th>aaaaaaaaaaaaaaa</th>\n",
       "      <th>aahhhh</th>\n",
       "      <th>abarcji</th>\n",
       "      <th>abidal</th>\n",
       "      <th>abnegacja</th>\n",
       "      <th>abonament</th>\n",
       "      <th>...</th>\n",
       "      <th>żółto</th>\n",
       "      <th>żółty</th>\n",
       "      <th>żółwik</th>\n",
       "      <th>żółć</th>\n",
       "      <th>żądamy</th>\n",
       "      <th>żądanie</th>\n",
       "      <th>żądać</th>\n",
       "      <th>żądza</th>\n",
       "      <th>żądło</th>\n",
       "      <th>żłób</th>\n",
       "    </tr>\n",
       "  </thead>\n",
       "  <tbody>\n",
       "    <tr>\n",
       "      <th>0</th>\n",
       "      <td>0</td>\n",
       "      <td>0</td>\n",
       "      <td>0</td>\n",
       "      <td>0</td>\n",
       "      <td>0</td>\n",
       "      <td>0</td>\n",
       "      <td>0</td>\n",
       "      <td>0</td>\n",
       "      <td>0</td>\n",
       "      <td>0</td>\n",
       "      <td>...</td>\n",
       "      <td>0</td>\n",
       "      <td>0</td>\n",
       "      <td>0</td>\n",
       "      <td>0</td>\n",
       "      <td>0</td>\n",
       "      <td>0</td>\n",
       "      <td>0</td>\n",
       "      <td>0</td>\n",
       "      <td>0</td>\n",
       "      <td>0</td>\n",
       "    </tr>\n",
       "    <tr>\n",
       "      <th>1</th>\n",
       "      <td>0</td>\n",
       "      <td>0</td>\n",
       "      <td>0</td>\n",
       "      <td>0</td>\n",
       "      <td>0</td>\n",
       "      <td>0</td>\n",
       "      <td>0</td>\n",
       "      <td>0</td>\n",
       "      <td>0</td>\n",
       "      <td>0</td>\n",
       "      <td>...</td>\n",
       "      <td>0</td>\n",
       "      <td>0</td>\n",
       "      <td>0</td>\n",
       "      <td>0</td>\n",
       "      <td>0</td>\n",
       "      <td>0</td>\n",
       "      <td>0</td>\n",
       "      <td>0</td>\n",
       "      <td>0</td>\n",
       "      <td>0</td>\n",
       "    </tr>\n",
       "    <tr>\n",
       "      <th>2</th>\n",
       "      <td>0</td>\n",
       "      <td>0</td>\n",
       "      <td>0</td>\n",
       "      <td>0</td>\n",
       "      <td>0</td>\n",
       "      <td>0</td>\n",
       "      <td>0</td>\n",
       "      <td>0</td>\n",
       "      <td>0</td>\n",
       "      <td>0</td>\n",
       "      <td>...</td>\n",
       "      <td>0</td>\n",
       "      <td>0</td>\n",
       "      <td>0</td>\n",
       "      <td>0</td>\n",
       "      <td>0</td>\n",
       "      <td>0</td>\n",
       "      <td>0</td>\n",
       "      <td>0</td>\n",
       "      <td>0</td>\n",
       "      <td>0</td>\n",
       "    </tr>\n",
       "    <tr>\n",
       "      <th>3</th>\n",
       "      <td>0</td>\n",
       "      <td>0</td>\n",
       "      <td>0</td>\n",
       "      <td>0</td>\n",
       "      <td>0</td>\n",
       "      <td>0</td>\n",
       "      <td>0</td>\n",
       "      <td>0</td>\n",
       "      <td>0</td>\n",
       "      <td>0</td>\n",
       "      <td>...</td>\n",
       "      <td>0</td>\n",
       "      <td>0</td>\n",
       "      <td>0</td>\n",
       "      <td>0</td>\n",
       "      <td>0</td>\n",
       "      <td>0</td>\n",
       "      <td>0</td>\n",
       "      <td>0</td>\n",
       "      <td>0</td>\n",
       "      <td>0</td>\n",
       "    </tr>\n",
       "    <tr>\n",
       "      <th>4</th>\n",
       "      <td>0</td>\n",
       "      <td>0</td>\n",
       "      <td>0</td>\n",
       "      <td>0</td>\n",
       "      <td>0</td>\n",
       "      <td>0</td>\n",
       "      <td>0</td>\n",
       "      <td>0</td>\n",
       "      <td>0</td>\n",
       "      <td>0</td>\n",
       "      <td>...</td>\n",
       "      <td>0</td>\n",
       "      <td>0</td>\n",
       "      <td>0</td>\n",
       "      <td>0</td>\n",
       "      <td>0</td>\n",
       "      <td>0</td>\n",
       "      <td>0</td>\n",
       "      <td>0</td>\n",
       "      <td>0</td>\n",
       "      <td>0</td>\n",
       "    </tr>\n",
       "  </tbody>\n",
       "</table>\n",
       "<p>5 rows × 15042 columns</p>\n",
       "</div>"
      ],
      "text/plain": [
       "   aa  aaaa  aaaaa  aaaaaa  aaaaaaaaaaaaaaa  aahhhh  abarcji  abidal  \\\n",
       "0   0     0      0       0                0       0        0       0   \n",
       "1   0     0      0       0                0       0        0       0   \n",
       "2   0     0      0       0                0       0        0       0   \n",
       "3   0     0      0       0                0       0        0       0   \n",
       "4   0     0      0       0                0       0        0       0   \n",
       "\n",
       "   abnegacja  abonament  ...  żółto  żółty  żółwik  żółć  żądamy  żądanie  \\\n",
       "0          0          0  ...      0      0       0     0       0        0   \n",
       "1          0          0  ...      0      0       0     0       0        0   \n",
       "2          0          0  ...      0      0       0     0       0        0   \n",
       "3          0          0  ...      0      0       0     0       0        0   \n",
       "4          0          0  ...      0      0       0     0       0        0   \n",
       "\n",
       "   żądać  żądza  żądło  żłób  \n",
       "0      0      0      0     0  \n",
       "1      0      0      0     0  \n",
       "2      0      0      0     0  \n",
       "3      0      0      0     0  \n",
       "4      0      0      0     0  \n",
       "\n",
       "[5 rows x 15042 columns]"
      ]
     },
     "execution_count": 78,
     "metadata": {},
     "output_type": "execute_result"
    }
   ],
   "source": [
    "df_cv_2 = pd.DataFrame(cv_transformed_2, columns=count_vectorizer_2.get_feature_names())\n",
    "df_cv_2.head()"
   ]
  },
  {
   "cell_type": "code",
   "execution_count": 81,
   "id": "12d9c114",
   "metadata": {},
   "outputs": [
    {
     "data": {
      "text/plain": [
       "mieć        1386\n",
       "móc          470\n",
       "wiedzieć     381\n",
       "chcieć       320\n",
       "dobry        288\n",
       "mecz         288\n",
       "chyba        257\n",
       "rok          251\n",
       "grać         232\n",
       "mówić        210\n",
       "czas         196\n",
       "raz          180\n",
       "robić        179\n",
       "widzieć      178\n",
       "zrobić       158\n",
       "dać          156\n",
       "polski       148\n",
       "chodzić      148\n",
       "xd           147\n",
       "musić        146\n",
       "dtype: int64"
      ]
     },
     "execution_count": 81,
     "metadata": {},
     "output_type": "execute_result"
    }
   ],
   "source": [
    "word_occurrences = df_cv_2.sum(axis=0)\n",
    "sorted_word_occurrences = word_occurrences.sort_values(ascending=False)\n",
    "sorted_word_occurrences.head(20)"
   ]
  },
  {
   "cell_type": "code",
   "execution_count": 92,
   "id": "7f2065f1",
   "metadata": {},
   "outputs": [
    {
     "data": {
      "image/png": "[encoded data removed]",
      "text/plain": [
       "<Figure size 720x360 with 1 Axes>"
      ]
     },
     "metadata": {},
     "output_type": "display_data"
    }
   ],
   "source": [
    "plt.figure(figsize=(10, 5))\n",
    "g = sns.barplot(x=sorted_word_occurrences[:25].index, y=sorted_word_occurrences[:25].values, color='dodgerblue')\n",
    "g.set_title('Most frequent words')\n",
    "plt.xticks(rotation=90)\n",
    "plt.show()"
   ]
  },
  {
   "cell_type": "markdown",
   "id": "7da0c868",
   "metadata": {},
   "source": [
    "- #### Most frequent words in non harmful tweets"
   ]
  },
  {
   "cell_type": "code",
   "execution_count": 88,
   "id": "3801f774",
   "metadata": {},
   "outputs": [
    {
     "data": {
      "text/plain": [
       "mieć        1299\n",
       "móc          429\n",
       "wiedzieć     342\n",
       "chcieć       307\n",
       "mecz         285\n",
       "dobry        279\n",
       "chyba        242\n",
       "rok          239\n",
       "grać         229\n",
       "mówić        192\n",
       "czas         182\n",
       "raz          174\n",
       "robić        166\n",
       "widzieć      160\n",
       "dać          144\n",
       "xd           144\n",
       "chodzić      144\n",
       "zrobić       142\n",
       "musić        137\n",
       "polski       125\n",
       "dtype: int64"
      ]
     },
     "execution_count": 88,
     "metadata": {},
     "output_type": "execute_result"
    }
   ],
   "source": [
    "word_occurrences_nh = df_cv_2[df['label'] == Labels.NON_HARMFUL.value].sum(axis=0)\n",
    "sorted_word_occurrences_nh = word_occurrences_nh.sort_values(ascending=False)\n",
    "sorted_word_occurrences_nh.head(20)"
   ]
  },
  {
   "cell_type": "code",
   "execution_count": 90,
   "id": "f8b884fc",
   "metadata": {},
   "outputs": [
    {
     "data": {
      "image/png": "[encoded data removed]",
      "text/plain": [
       "<Figure size 720x360 with 1 Axes>"
      ]
     },
     "metadata": {},
     "output_type": "display_data"
    }
   ],
   "source": [
    "plt.figure(figsize=(10, 5))\n",
    "g = sns.barplot(x=sorted_word_occurrences_nh[:25].index, y=sorted_word_occurrences_nh[:25].values, color='mediumseagreen')\n",
    "g.set_title('Most frequent words')\n",
    "plt.xticks(rotation=90)\n",
    "plt.show()"
   ]
  },
  {
   "cell_type": "markdown",
   "id": "d1a797e0",
   "metadata": {},
   "source": [
    "- #### Most frequent words in harmful tweets"
   ]
  },
  {
   "cell_type": "code",
   "execution_count": 89,
   "id": "947795cf",
   "metadata": {},
   "outputs": [
    {
     "data": {
      "text/plain": [
       "mieć          87\n",
       "jesteś        49\n",
       "móc           41\n",
       "wiedzieć      39\n",
       "kurwa         30\n",
       "debil         27\n",
       "dupa          25\n",
       "polski        23\n",
       "pisowski      22\n",
       "pajac         20\n",
       "mózg          19\n",
       "powiedzieć    18\n",
       "widzieć       18\n",
       "chuj          18\n",
       "mówić         18\n",
       "człowiek      17\n",
       "pis           17\n",
       "stary         16\n",
       "zrobić        16\n",
       "kobieta       16\n",
       "dtype: int64"
      ]
     },
     "execution_count": 89,
     "metadata": {},
     "output_type": "execute_result"
    }
   ],
   "source": [
    "word_occurrences_h = df_cv_2[df['label'] == Labels.HARMFUL.value].sum(axis=0)\n",
    "sorted_word_occurrences_h = word_occurrences_h.sort_values(ascending=False)\n",
    "sorted_word_occurrences_h.head(20)"
   ]
  },
  {
   "cell_type": "code",
   "execution_count": 93,
   "id": "98f104d1",
   "metadata": {},
   "outputs": [
    {
     "data": {
      "image/png": "[encoded data removed]",
      "text/plain": [
       "<Figure size 720x360 with 1 Axes>"
      ]
     },
     "metadata": {},
     "output_type": "display_data"
    }
   ],
   "source": [
    "plt.figure(figsize=(10, 5))\n",
    "g = sns.barplot(x=sorted_word_occurrences_h[:25].index, y=sorted_word_occurrences_h[:25].values, color='red')\n",
    "g.set_title('Most frequent words')\n",
    "plt.xticks(rotation=90)\n",
    "plt.show()"
   ]
  },
  {
   "cell_type": "markdown",
   "id": "b01449af",
   "metadata": {},
   "source": [
    "As we can see, the words used differ significantly.\n",
    "The harmful tweets contain much more curses."
   ]
  },
  {
   "cell_type": "markdown",
   "id": "17f7a77c",
   "metadata": {},
   "source": [
    "### WordCloud with most frequent words"
   ]
  },
  {
   "cell_type": "code",
   "execution_count": null,
   "id": "c15f4875",
   "metadata": {},
   "outputs": [],
   "source": []
  },
  {
   "cell_type": "markdown",
   "id": "64a65e6c",
   "metadata": {},
   "source": [
    "The `@anonymized_account` text is the most frequent word in the dataset.\n",
    "Let's check if it is present in every tweet, and maybe delete it"
   ]
  },
  {
   "cell_type": "code",
   "execution_count": null,
   "id": "9fe9750a",
   "metadata": {},
   "outputs": [
    {
     "data": {
      "text/html": [
       "<div>\n",
       "<style scoped>\n",
       "    .dataframe tbody tr th:only-of-type {\n",
       "        vertical-align: middle;\n",
       "    }\n",
       "\n",
       "    .dataframe tbody tr th {\n",
       "        vertical-align: top;\n",
       "    }\n",
       "\n",
       "    .dataframe thead th {\n",
       "        text-align: right;\n",
       "    }\n",
       "</style>\n",
       "<table border=\"1\" class=\"dataframe\">\n",
       "  <thead>\n",
       "    <tr style=\"text-align: right;\">\n",
       "      <th></th>\n",
       "      <th>text</th>\n",
       "      <th>label</th>\n",
       "    </tr>\n",
       "  </thead>\n",
       "  <tbody>\n",
       "    <tr>\n",
       "      <th>0</th>\n",
       "      <td>dla mnie faworytem do tytułu będzie cracovia. ...</td>\n",
       "      <td>0</td>\n",
       "    </tr>\n",
       "    <tr>\n",
       "      <th>1</th>\n",
       "      <td>@anonymized_account @anonymized_account brawo ...</td>\n",
       "      <td>0</td>\n",
       "    </tr>\n",
       "    <tr>\n",
       "      <th>2</th>\n",
       "      <td>@anonymized_account @anonymized_account super,...</td>\n",
       "      <td>0</td>\n",
       "    </tr>\n",
       "    <tr>\n",
       "      <th>3</th>\n",
       "      <td>@anonymized_account @anonymized_account musi. ...</td>\n",
       "      <td>0</td>\n",
       "    </tr>\n",
       "    <tr>\n",
       "      <th>4</th>\n",
       "      <td>odrzut natychmiastowy, kwaśna mina, mam problem</td>\n",
       "      <td>0</td>\n",
       "    </tr>\n",
       "  </tbody>\n",
       "</table>\n",
       "</div>"
      ],
      "text/plain": [
       "                                                text  label\n",
       "0  dla mnie faworytem do tytułu będzie cracovia. ...      0\n",
       "1  @anonymized_account @anonymized_account brawo ...      0\n",
       "2  @anonymized_account @anonymized_account super,...      0\n",
       "3  @anonymized_account @anonymized_account musi. ...      0\n",
       "4    odrzut natychmiastowy, kwaśna mina, mam problem      0"
      ]
     },
     "execution_count": 107,
     "metadata": {},
     "output_type": "execute_result"
    }
   ],
   "source": [
    "df_lower = df.copy()\n",
    "df_lower['text'] = df['text'].str.lower()\n",
    "df_lower.head()"
   ]
  },
  {
   "cell_type": "code",
   "execution_count": null,
   "id": "e20b3217",
   "metadata": {},
   "outputs": [],
   "source": [
    "start_anon_acc_pattern = r'^@anonymized_account'\n",
    "anon_acc_pattern = r'@anonymized_account'"
   ]
  },
  {
   "cell_type": "code",
   "execution_count": null,
   "id": "fedba661",
   "metadata": {},
   "outputs": [
    {
     "data": {
      "text/plain": [
       "13762"
      ]
     },
     "execution_count": 109,
     "metadata": {},
     "output_type": "execute_result"
    }
   ],
   "source": [
    "df_lower['text'].str.count(anon_acc_pattern).sum()"
   ]
  },
  {
   "cell_type": "code",
   "execution_count": null,
   "id": "672627c4",
   "metadata": {},
   "outputs": [
    {
     "data": {
      "text/plain": [
       "0.6016963973417279"
      ]
     },
     "execution_count": 110,
     "metadata": {},
     "output_type": "execute_result"
    }
   ],
   "source": [
    "df_lower['text'].str.count(anon_acc_pattern).sum() / num_words"
   ]
  },
  {
   "cell_type": "markdown",
   "id": "53b1b244",
   "metadata": {},
   "source": [
    "This shows us, that 60% of all words are `@anonymized_account` - tagged accounts"
   ]
  },
  {
   "cell_type": "code",
   "execution_count": null,
   "id": "28379e58",
   "metadata": {},
   "outputs": [
    {
     "data": {
      "text/plain": [
       "7565"
      ]
     },
     "execution_count": 111,
     "metadata": {},
     "output_type": "execute_result"
    }
   ],
   "source": [
    "df_lower['text'].str.match(start_anon_acc_pattern).sum()"
   ]
  },
  {
   "cell_type": "code",
   "execution_count": null,
   "id": "533a2619",
   "metadata": {},
   "outputs": [],
   "source": []
  },
  {
   "cell_type": "markdown",
   "id": "e1179824",
   "metadata": {},
   "source": [
    "Adding a Reply (`Reply`) boolean column"
   ]
  },
  {
   "cell_type": "code",
   "execution_count": null,
   "id": "0578bbde",
   "metadata": {},
   "outputs": [],
   "source": [
    "# if startswith.(@anonymized_account) ...\n",
    "\n",
    "# UWAGA, może być też po RT więc wtedy 'RT @anonymized_account'"
   ]
  },
  {
   "cell_type": "markdown",
   "id": "8a1685ea",
   "metadata": {},
   "source": [
    "Mention/Reference - if the @anonymized_account is in the middle, or is not followed by another from the start?"
   ]
  },
  {
   "cell_type": "code",
   "execution_count": null,
   "metadata": {},
   "outputs": [],
   "source": [
    "def check_if_reference(tweet_text):\n",
    "    pass"
   ]
  },
  {
   "cell_type": "code",
   "execution_count": null,
   "id": "9c92ef48",
   "metadata": {},
   "outputs": [],
   "source": []
  },
  {
   "cell_type": "code",
   "execution_count": null,
   "id": "ff5155d6",
   "metadata": {},
   "outputs": [],
   "source": []
  },
  {
   "cell_type": "markdown",
   "id": "784790ac",
   "metadata": {},
   "source": [
    "Adding a RT (Re-Tweets) column?"
   ]
  },
  {
   "cell_type": "markdown",
   "id": "3be4bcca",
   "metadata": {},
   "source": [
    "According to Twitter FAQ, this is not an official feature and cannot be trusted\n",
    "\n",
    "```\n",
    "Sometimes people type \"RT\" at the beginning of a Tweet to indicate that they are re-posting someone else's content. This isn't an official Twitter command or feature, but signifies that they are quoting another person's Tweet.\n",
    "```"
   ]
  },
  {
   "cell_type": "code",
   "execution_count": null,
   "id": "5076bee8",
   "metadata": {},
   "outputs": [],
   "source": []
  },
  {
   "cell_type": "code",
   "execution_count": null,
   "id": "33601bf1",
   "metadata": {},
   "outputs": [],
   "source": []
  },
  {
   "cell_type": "code",
   "execution_count": null,
   "id": "6f7e728a",
   "metadata": {},
   "outputs": [],
   "source": []
  },
  {
   "cell_type": "code",
   "execution_count": null,
   "id": "0401f4da",
   "metadata": {},
   "outputs": [],
   "source": []
  },
  {
   "cell_type": "markdown",
   "id": "7c486be0",
   "metadata": {},
   "source": [
    "### Most common hash tags #"
   ]
  },
  {
   "cell_type": "code",
   "execution_count": null,
   "id": "5ca10717",
   "metadata": {},
   "outputs": [],
   "source": [
    "# https://towardsdatascience.com/visualization-of-information-from-raw-twitter-data-part-1-99181ad19c"
   ]
  },
  {
   "cell_type": "code",
   "execution_count": null,
   "id": "d451d4fb",
   "metadata": {},
   "outputs": [],
   "source": []
  },
  {
   "cell_type": "code",
   "execution_count": null,
   "id": "7eb7e77a",
   "metadata": {},
   "outputs": [],
   "source": []
  },
  {
   "cell_type": "code",
   "execution_count": null,
   "id": "df53a287",
   "metadata": {},
   "outputs": [],
   "source": []
  },
  {
   "cell_type": "markdown",
   "id": "0fc2ca96",
   "metadata": {},
   "source": [
    "Analysis:\n",
    "- https://towardsdatascience.com/sentiment-analysis-concept-analysis-and-applications-6c94d6f58c17\n",
    "- https://towardsdatascience.com/preprocessing-text-data-using-python-576206753c28\n",
    "- https://towardsdatascience.com/nlp-part-3-exploratory-data-analysis-of-text-data-1caa8ab3f79d\n",
    "- https://neptune.ai/blog/exploratory-data-analysis-natural-language-processing-tools\n",
    "- https://www.analyticsvidhya.com/blog/2020/04/beginners-guide-exploratory-data-analysis-text-data/"
   ]
  },
  {
   "cell_type": "markdown",
   "id": "c96d9181",
   "metadata": {},
   "source": [
    "- Perform simple analysis:\n",
    "    - [DONE] Word count by class\n",
    "    - [DONE] Length of tweets\n",
    "    - [DONE] Average tweet length by class\n",
    "    - [IN PROGRESS] Most frequent words\n",
    "    - Most frequent words by class\n",
    "- Remove emoji's? Or maybe tokenize them\n",
    "    - https://github.com/huggingface/transformers/issues/7648\n",
    "    - https://stackoverflow.com/questions/57679668/tokenizing-emojis-contiguous-to-words\n",
    "\n",
    "- Check if replying and mentioning other account by `@anonymized_account`, is correlated with the labels\n"
   ]
  },
  {
   "cell_type": "code",
   "execution_count": null,
   "id": "a4dee7bd",
   "metadata": {},
   "outputs": [],
   "source": []
  },
  {
   "cell_type": "code",
   "execution_count": null,
   "id": "d45abed3",
   "metadata": {},
   "outputs": [],
   "source": []
  },
  {
   "cell_type": "code",
   "execution_count": null,
   "id": "eb1496b8",
   "metadata": {},
   "outputs": [],
   "source": []
  },
  {
   "cell_type": "markdown",
   "id": "399662a4",
   "metadata": {},
   "source": [
    "Preprocessing:\n",
    "- Lower the text? (not always as capital text is 'shouting') - check if more uppercase means cyberbullying\n",
    "- Remove duplicates (181 i 182 - duplikaty)\n",
    "- Create a pipeline!!!"
   ]
  },
  {
   "cell_type": "code",
   "execution_count": null,
   "id": "90becddb",
   "metadata": {},
   "outputs": [],
   "source": []
  }
 ],
 "metadata": {
  "kernelspec": {
   "display_name": "Python 3",
   "language": "python",
   "name": "python3"
  },
  "language_info": {
   "codemirror_mode": {
    "name": "ipython",
    "version": 3
   },
   "file_extension": ".py",
   "mimetype": "text/x-python",
   "name": "python",
   "nbconvert_exporter": "python",
   "pygments_lexer": "ipython3",
   "version": "3.6.9"
  },
  "toc": {
   "base_numbering": 1,
   "nav_menu": {},
   "number_sections": true,
   "sideBar": true,
   "skip_h1_title": false,
   "title_cell": "Table of Contents",
   "title_sidebar": "Contents",
   "toc_cell": false,
   "toc_position": {},
   "toc_section_display": true,
   "toc_window_display": false
  }
 },
 "nbformat": 4,
 "nbformat_minor": 5
}
