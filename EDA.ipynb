{
 "cells": [
  {
   "cell_type": "markdown",
   "id": "5b11a1e2",
   "metadata": {},
   "source": [
    "# Task"
   ]
  },
  {
   "cell_type": "markdown",
   "id": "8a9d87df",
   "metadata": {},
   "source": [
    "Exploratory Data Analysis of Polish Twitter [dataset](http://2019.poleval.pl/index.php/tasks/task6)"
   ]
  },
  {
   "cell_type": "markdown",
   "id": "63b413f8",
   "metadata": {},
   "source": [
    "# Init"
   ]
  },
  {
   "cell_type": "markdown",
   "id": "e20cc5b7",
   "metadata": {},
   "source": [
    "## Importing modules"
   ]
  },
  {
   "cell_type": "code",
   "execution_count": 47,
   "id": "3e320c75",
   "metadata": {},
   "outputs": [],
   "source": [
    "import os\n",
    "import numpy as np\n",
    "import pandas as pd\n",
    "import seaborn as sns\n",
    "import matplotlib.pyplot as plt"
   ]
  },
  {
   "cell_type": "code",
   "execution_count": 2,
   "id": "9e070b33",
   "metadata": {
    "scrolled": true
   },
   "outputs": [],
   "source": [
    "from sklearn.feature_extraction.text import CountVectorizer"
   ]
  },
  {
   "cell_type": "markdown",
   "id": "c2134006",
   "metadata": {},
   "source": [
    "## Constants"
   ]
  },
  {
   "cell_type": "code",
   "execution_count": 55,
   "id": "70b78640",
   "metadata": {},
   "outputs": [],
   "source": [
    "DATA_DIR = 'data/'\n",
    "TRAIN_DATA_DIR = os.path.join(DATA_DIR, 'train/')\n",
    "TEST_DATA_DIR = os.path.join(DATA_DIR, 'test/')\n",
    "\n",
    "MAX_TWEET_LENGTH = 280\n",
    "\n",
    "LABEL_NON_HARMFUL = 0\n",
    "LABEL_HARMFUL = 1\n"
   ]
  },
  {
   "cell_type": "markdown",
   "id": "1cecbde5",
   "metadata": {},
   "source": [
    "## Helper functions "
   ]
  },
  {
   "cell_type": "code",
   "execution_count": 10,
   "id": "340651f9",
   "metadata": {},
   "outputs": [],
   "source": [
    "def display_full_df(df) -> None:\n",
    "    \"\"\"Displays a df with no fixed width and a specified number of rows.\"\"\"\n",
    "    \n",
    "    pd.set_option('display.max_columns', None)  # or 1000\n",
    "    pd.set_option('display.max_rows', None)  # or 1000\n",
    "    pd.set_option('display.max_colwidth', None)  # or 199\n",
    "    print(df)\n"
   ]
  },
  {
   "cell_type": "markdown",
   "id": "53c56e9c",
   "metadata": {},
   "source": [
    "# Analysis"
   ]
  },
  {
   "cell_type": "markdown",
   "id": "12388f80",
   "metadata": {},
   "source": [
    "## Loading data"
   ]
  },
  {
   "cell_type": "code",
   "execution_count": 12,
   "id": "f2ce8a3e",
   "metadata": {},
   "outputs": [
    {
     "data": {
      "text/plain": [
       "['training_set_clean_only_tags.txt', 'training_set_clean_only_text.txt']"
      ]
     },
     "execution_count": 12,
     "metadata": {},
     "output_type": "execute_result"
    }
   ],
   "source": [
    "os.listdir(TRAIN_DATA_DIR)"
   ]
  },
  {
   "cell_type": "code",
   "execution_count": 13,
   "id": "cbec6ef1",
   "metadata": {},
   "outputs": [],
   "source": [
    "TRAIN_DATA = os.path.join(TRAIN_DATA_DIR, os.listdir(TRAIN_DATA_DIR)[1])\n",
    "TRAIN_LABELS = os.path.join(TRAIN_DATA_DIR, os.listdir(TRAIN_DATA_DIR)[0])"
   ]
  },
  {
   "cell_type": "code",
   "execution_count": 14,
   "id": "bfcb393d",
   "metadata": {},
   "outputs": [
    {
     "data": {
      "text/plain": [
       "((10041, 1), (10041, 1))"
      ]
     },
     "execution_count": 14,
     "metadata": {},
     "output_type": "execute_result"
    }
   ],
   "source": [
    "data_df = pd.read_csv(TRAIN_DATA, sep='\\n', names=['text'])\n",
    "labels_df = pd.read_csv(TRAIN_LABELS, sep='\\n', names=['label'])\n",
    "\n",
    "data_df.shape, labels_df.shape"
   ]
  },
  {
   "cell_type": "code",
   "execution_count": 15,
   "id": "0fe14ad1",
   "metadata": {},
   "outputs": [
    {
     "data": {
      "text/html": [
       "<div>\n",
       "<style scoped>\n",
       "    .dataframe tbody tr th:only-of-type {\n",
       "        vertical-align: middle;\n",
       "    }\n",
       "\n",
       "    .dataframe tbody tr th {\n",
       "        vertical-align: top;\n",
       "    }\n",
       "\n",
       "    .dataframe thead th {\n",
       "        text-align: right;\n",
       "    }\n",
       "</style>\n",
       "<table border=\"1\" class=\"dataframe\">\n",
       "  <thead>\n",
       "    <tr style=\"text-align: right;\">\n",
       "      <th></th>\n",
       "      <th>text</th>\n",
       "    </tr>\n",
       "  </thead>\n",
       "  <tbody>\n",
       "    <tr>\n",
       "      <th>0</th>\n",
       "      <td>Dla mnie faworytem do tytułu będzie Cracovia. ...</td>\n",
       "    </tr>\n",
       "    <tr>\n",
       "      <th>1</th>\n",
       "      <td>@anonymized_account @anonymized_account Brawo ...</td>\n",
       "    </tr>\n",
       "    <tr>\n",
       "      <th>2</th>\n",
       "      <td>@anonymized_account @anonymized_account Super,...</td>\n",
       "    </tr>\n",
       "    <tr>\n",
       "      <th>3</th>\n",
       "      <td>@anonymized_account @anonymized_account Musi. ...</td>\n",
       "    </tr>\n",
       "    <tr>\n",
       "      <th>4</th>\n",
       "      <td>Odrzut natychmiastowy, kwaśna mina, mam problem</td>\n",
       "    </tr>\n",
       "  </tbody>\n",
       "</table>\n",
       "</div>"
      ],
      "text/plain": [
       "                                                text\n",
       "0  Dla mnie faworytem do tytułu będzie Cracovia. ...\n",
       "1  @anonymized_account @anonymized_account Brawo ...\n",
       "2  @anonymized_account @anonymized_account Super,...\n",
       "3  @anonymized_account @anonymized_account Musi. ...\n",
       "4    Odrzut natychmiastowy, kwaśna mina, mam problem"
      ]
     },
     "execution_count": 15,
     "metadata": {},
     "output_type": "execute_result"
    }
   ],
   "source": [
    "data_df.head()"
   ]
  },
  {
   "cell_type": "code",
   "execution_count": 16,
   "id": "4989419e",
   "metadata": {},
   "outputs": [
    {
     "data": {
      "text/html": [
       "<div>\n",
       "<style scoped>\n",
       "    .dataframe tbody tr th:only-of-type {\n",
       "        vertical-align: middle;\n",
       "    }\n",
       "\n",
       "    .dataframe tbody tr th {\n",
       "        vertical-align: top;\n",
       "    }\n",
       "\n",
       "    .dataframe thead th {\n",
       "        text-align: right;\n",
       "    }\n",
       "</style>\n",
       "<table border=\"1\" class=\"dataframe\">\n",
       "  <thead>\n",
       "    <tr style=\"text-align: right;\">\n",
       "      <th></th>\n",
       "      <th>label</th>\n",
       "    </tr>\n",
       "  </thead>\n",
       "  <tbody>\n",
       "    <tr>\n",
       "      <th>0</th>\n",
       "      <td>0</td>\n",
       "    </tr>\n",
       "    <tr>\n",
       "      <th>1</th>\n",
       "      <td>0</td>\n",
       "    </tr>\n",
       "    <tr>\n",
       "      <th>2</th>\n",
       "      <td>0</td>\n",
       "    </tr>\n",
       "    <tr>\n",
       "      <th>3</th>\n",
       "      <td>0</td>\n",
       "    </tr>\n",
       "    <tr>\n",
       "      <th>4</th>\n",
       "      <td>0</td>\n",
       "    </tr>\n",
       "  </tbody>\n",
       "</table>\n",
       "</div>"
      ],
      "text/plain": [
       "   label\n",
       "0      0\n",
       "1      0\n",
       "2      0\n",
       "3      0\n",
       "4      0"
      ]
     },
     "execution_count": 16,
     "metadata": {},
     "output_type": "execute_result"
    }
   ],
   "source": [
    "labels_df.head()"
   ]
  },
  {
   "cell_type": "markdown",
   "id": "96119ca4",
   "metadata": {},
   "source": [
    "Concatenating dataframes"
   ]
  },
  {
   "cell_type": "code",
   "execution_count": 17,
   "id": "92c4fddd",
   "metadata": {},
   "outputs": [
    {
     "data": {
      "text/html": [
       "<div>\n",
       "<style scoped>\n",
       "    .dataframe tbody tr th:only-of-type {\n",
       "        vertical-align: middle;\n",
       "    }\n",
       "\n",
       "    .dataframe tbody tr th {\n",
       "        vertical-align: top;\n",
       "    }\n",
       "\n",
       "    .dataframe thead th {\n",
       "        text-align: right;\n",
       "    }\n",
       "</style>\n",
       "<table border=\"1\" class=\"dataframe\">\n",
       "  <thead>\n",
       "    <tr style=\"text-align: right;\">\n",
       "      <th></th>\n",
       "      <th>text</th>\n",
       "      <th>label</th>\n",
       "    </tr>\n",
       "  </thead>\n",
       "  <tbody>\n",
       "    <tr>\n",
       "      <th>0</th>\n",
       "      <td>Dla mnie faworytem do tytułu będzie Cracovia. ...</td>\n",
       "      <td>0</td>\n",
       "    </tr>\n",
       "    <tr>\n",
       "      <th>1</th>\n",
       "      <td>@anonymized_account @anonymized_account Brawo ...</td>\n",
       "      <td>0</td>\n",
       "    </tr>\n",
       "    <tr>\n",
       "      <th>2</th>\n",
       "      <td>@anonymized_account @anonymized_account Super,...</td>\n",
       "      <td>0</td>\n",
       "    </tr>\n",
       "    <tr>\n",
       "      <th>3</th>\n",
       "      <td>@anonymized_account @anonymized_account Musi. ...</td>\n",
       "      <td>0</td>\n",
       "    </tr>\n",
       "    <tr>\n",
       "      <th>4</th>\n",
       "      <td>Odrzut natychmiastowy, kwaśna mina, mam problem</td>\n",
       "      <td>0</td>\n",
       "    </tr>\n",
       "  </tbody>\n",
       "</table>\n",
       "</div>"
      ],
      "text/plain": [
       "                                                text  label\n",
       "0  Dla mnie faworytem do tytułu będzie Cracovia. ...      0\n",
       "1  @anonymized_account @anonymized_account Brawo ...      0\n",
       "2  @anonymized_account @anonymized_account Super,...      0\n",
       "3  @anonymized_account @anonymized_account Musi. ...      0\n",
       "4    Odrzut natychmiastowy, kwaśna mina, mam problem      0"
      ]
     },
     "execution_count": 17,
     "metadata": {},
     "output_type": "execute_result"
    }
   ],
   "source": [
    "df = pd.concat([data_df, labels_df], axis=1)\n",
    "\n",
    "df.head()"
   ]
  },
  {
   "cell_type": "markdown",
   "id": "5c0b8d01",
   "metadata": {},
   "source": [
    "## EDA"
   ]
  },
  {
   "cell_type": "markdown",
   "id": "28b9033d",
   "metadata": {},
   "source": [
    "### Null values"
   ]
  },
  {
   "cell_type": "code",
   "execution_count": 18,
   "id": "ded216eb",
   "metadata": {},
   "outputs": [
    {
     "name": "stdout",
     "output_type": "stream",
     "text": [
      "<class 'pandas.core.frame.DataFrame'>\n",
      "RangeIndex: 10041 entries, 0 to 10040\n",
      "Data columns (total 2 columns):\n",
      " #   Column  Non-Null Count  Dtype \n",
      "---  ------  --------------  ----- \n",
      " 0   text    10041 non-null  object\n",
      " 1   label   10041 non-null  int64 \n",
      "dtypes: int64(1), object(1)\n",
      "memory usage: 157.0+ KB\n"
     ]
    }
   ],
   "source": [
    "df.info()"
   ]
  },
  {
   "cell_type": "code",
   "execution_count": 20,
   "id": "9630fd55",
   "metadata": {},
   "outputs": [
    {
     "data": {
      "text/plain": [
       "text     0\n",
       "label    0\n",
       "dtype: int64"
      ]
     },
     "execution_count": 20,
     "metadata": {},
     "output_type": "execute_result"
    }
   ],
   "source": [
    "df.isnull().sum()"
   ]
  },
  {
   "cell_type": "markdown",
   "id": "56d24d75",
   "metadata": {},
   "source": [
    "No null values"
   ]
  },
  {
   "cell_type": "markdown",
   "id": "ba301464",
   "metadata": {},
   "source": [
    "### Labels"
   ]
  },
  {
   "cell_type": "code",
   "execution_count": 21,
   "id": "c2bf34d1",
   "metadata": {},
   "outputs": [
    {
     "data": {
      "text/plain": [
       "array([0, 1])"
      ]
     },
     "execution_count": 21,
     "metadata": {},
     "output_type": "execute_result"
    }
   ],
   "source": [
    "df['label'].unique()"
   ]
  },
  {
   "cell_type": "markdown",
   "id": "5a1b1f24",
   "metadata": {},
   "source": [
    "No incorrect labels"
   ]
  },
  {
   "cell_type": "markdown",
   "id": "e144f59d",
   "metadata": {},
   "source": [
    "### Distribution of labels"
   ]
  },
  {
   "cell_type": "code",
   "execution_count": 22,
   "id": "b58c66ba",
   "metadata": {},
   "outputs": [
    {
     "data": {
      "text/plain": [
       "0    9190\n",
       "1     851\n",
       "Name: label, dtype: int64"
      ]
     },
     "execution_count": 22,
     "metadata": {},
     "output_type": "execute_result"
    }
   ],
   "source": [
    "df['label'].value_counts()"
   ]
  },
  {
   "cell_type": "code",
   "execution_count": 58,
   "id": "3f4669ad",
   "metadata": {},
   "outputs": [
    {
     "data": {
      "image/png": "[encoded data removed]",
      "text/plain": [
       "<Figure size 432x288 with 1 Axes>"
      ]
     },
     "metadata": {
      "needs_background": "light"
     },
     "output_type": "display_data"
    }
   ],
   "source": [
    "# Customization\n",
    "hue_colors = {LABEL_NON_HARMFUL: 'green',\n",
    "              LABEL_HARMFUL: 'red'}\n",
    "\n",
    "plt.xticks(range(2), ['Positive [0]', 'Negative [1]'])\n",
    "plt.title('Label distribution')\n",
    "\n",
    "sns.countplot(x='label', data=df, palette=hue_colors)\n",
    "\n",
    "plt.show()"
   ]
  },
  {
   "cell_type": "markdown",
   "id": "53c68c36",
   "metadata": {},
   "source": [
    "Unfortunately the labels are not equally distributed. This may be a significant problem and has to be considered in evaluation metrics."
   ]
  },
  {
   "cell_type": "markdown",
   "id": "e441e408",
   "metadata": {},
   "source": [
    "### Length of tweets"
   ]
  },
  {
   "cell_type": "code",
   "execution_count": 29,
   "id": "784625ef",
   "metadata": {},
   "outputs": [
    {
     "data": {
      "text/plain": [
       "0         78\n",
       "1         82\n",
       "2        125\n",
       "3         67\n",
       "4         47\n",
       "        ... \n",
       "10036     48\n",
       "10037    149\n",
       "10038     81\n",
       "10039    132\n",
       "10040     56\n",
       "Name: text, Length: 10041, dtype: int64"
      ]
     },
     "execution_count": 29,
     "metadata": {},
     "output_type": "execute_result"
    }
   ],
   "source": [
    "df['text'].str.len()"
   ]
  },
  {
   "cell_type": "code",
   "execution_count": 44,
   "id": "8cb5beaa",
   "metadata": {},
   "outputs": [
    {
     "name": "stdout",
     "output_type": "stream",
     "text": [
      "Average tweet length: 93\n",
      "Median tweet length: 91\n"
     ]
    }
   ],
   "source": [
    "print(f'Average tweet length: {int(np.mean(df[\"text\"].str.len()))}')\n",
    "print(f'Median tweet length: {int(np.median(df[\"text\"].str.len()))}')"
   ]
  },
  {
   "cell_type": "markdown",
   "id": "e441e408",
   "metadata": {},
   "source": [
    "### Most frequent words"
   ]
  },
  {
   "cell_type": "code",
   "execution_count": null,
   "id": "467cf41d",
   "metadata": {},
   "outputs": [],
   "source": []
  },
  {
   "cell_type": "code",
   "execution_count": null,
   "id": "927d2508",
   "metadata": {},
   "outputs": [],
   "source": []
  },
  {
   "cell_type": "code",
   "execution_count": 11,
   "id": "1885533e",
   "metadata": {},
   "outputs": [],
   "source": [
    "# display_full_df(df)"
   ]
  },
  {
   "cell_type": "markdown",
   "id": "f6f259a2",
   "metadata": {},
   "source": [
    "## Bag-of-Words"
   ]
  },
  {
   "cell_type": "code",
   "execution_count": 12,
   "id": "6a4a993c",
   "metadata": {},
   "outputs": [],
   "source": [
    "count_vectorizer = CountVectorizer()"
   ]
  },
  {
   "cell_type": "code",
   "execution_count": 13,
   "id": "eb00b5bf",
   "metadata": {
    "scrolled": false
   },
   "outputs": [
    {
     "data": {
      "text/plain": [
       "['biedak',\n",
       " 'biedaku',\n",
       " 'biedna',\n",
       " 'biedne',\n",
       " 'biednego',\n",
       " 'biedni',\n",
       " 'biedniejsze',\n",
       " 'biedniejszych',\n",
       " 'biedny',\n",
       " 'biedronce',\n",
       " 'biedronka',\n",
       " 'biedronki',\n",
       " 'biedroń',\n",
       " 'biedy',\n",
       " 'biedę',\n",
       " 'bieg',\n",
       " 'biega',\n",
       " 'biegali',\n",
       " 'biegam',\n",
       " 'biegania']"
      ]
     },
     "execution_count": 13,
     "metadata": {},
     "output_type": "execute_result"
    }
   ],
   "source": [
    "cv_transformed = count_vectorizer.fit_transform(df['text']).toarray()\n",
    "count_vectorizer.get_feature_names()[1000:1020]"
   ]
  },
  {
   "cell_type": "code",
   "execution_count": 14,
   "id": "a8c6d3ae",
   "metadata": {},
   "outputs": [],
   "source": [
    "df_cv = pd.DataFrame(cv_transformed, columns=count_vectorizer.get_feature_names())"
   ]
  },
  {
   "cell_type": "code",
   "execution_count": 15,
   "id": "2f7121d3",
   "metadata": {},
   "outputs": [
    {
     "data": {
      "text/html": [
       "<div>\n",
       "<style scoped>\n",
       "    .dataframe tbody tr th:only-of-type {\n",
       "        vertical-align: middle;\n",
       "    }\n",
       "\n",
       "    .dataframe tbody tr th {\n",
       "        vertical-align: top;\n",
       "    }\n",
       "\n",
       "    .dataframe thead th {\n",
       "        text-align: right;\n",
       "    }\n",
       "</style>\n",
       "<table border=\"1\" class=\"dataframe\">\n",
       "  <thead>\n",
       "    <tr style=\"text-align: right;\">\n",
       "      <th></th>\n",
       "      <th>00</th>\n",
       "      <th>01</th>\n",
       "      <th>02s91ipder</th>\n",
       "      <th>03</th>\n",
       "      <th>04</th>\n",
       "      <th>06</th>\n",
       "      <th>0888888888</th>\n",
       "      <th>0jdgav1mow</th>\n",
       "      <th>0q4pyaqhlz</th>\n",
       "      <th>0sxlbtcpgh</th>\n",
       "      <th>...</th>\n",
       "      <th>żądza</th>\n",
       "      <th>żądło</th>\n",
       "      <th>żłobu</th>\n",
       "      <th>лайка</th>\n",
       "      <th>איזה</th>\n",
       "      <th>הנשיא</th>\n",
       "      <th>מצוין</th>\n",
       "      <th>פולני</th>\n",
       "      <th>רעיון</th>\n",
       "      <th>של</th>\n",
       "    </tr>\n",
       "  </thead>\n",
       "  <tbody>\n",
       "    <tr>\n",
       "      <th>0</th>\n",
       "      <td>0</td>\n",
       "      <td>0</td>\n",
       "      <td>0</td>\n",
       "      <td>0</td>\n",
       "      <td>0</td>\n",
       "      <td>0</td>\n",
       "      <td>0</td>\n",
       "      <td>0</td>\n",
       "      <td>0</td>\n",
       "      <td>0</td>\n",
       "      <td>...</td>\n",
       "      <td>0</td>\n",
       "      <td>0</td>\n",
       "      <td>0</td>\n",
       "      <td>0</td>\n",
       "      <td>0</td>\n",
       "      <td>0</td>\n",
       "      <td>0</td>\n",
       "      <td>0</td>\n",
       "      <td>0</td>\n",
       "      <td>0</td>\n",
       "    </tr>\n",
       "    <tr>\n",
       "      <th>1</th>\n",
       "      <td>0</td>\n",
       "      <td>0</td>\n",
       "      <td>0</td>\n",
       "      <td>0</td>\n",
       "      <td>0</td>\n",
       "      <td>0</td>\n",
       "      <td>0</td>\n",
       "      <td>0</td>\n",
       "      <td>0</td>\n",
       "      <td>0</td>\n",
       "      <td>...</td>\n",
       "      <td>0</td>\n",
       "      <td>0</td>\n",
       "      <td>0</td>\n",
       "      <td>0</td>\n",
       "      <td>0</td>\n",
       "      <td>0</td>\n",
       "      <td>0</td>\n",
       "      <td>0</td>\n",
       "      <td>0</td>\n",
       "      <td>0</td>\n",
       "    </tr>\n",
       "    <tr>\n",
       "      <th>2</th>\n",
       "      <td>0</td>\n",
       "      <td>0</td>\n",
       "      <td>0</td>\n",
       "      <td>0</td>\n",
       "      <td>0</td>\n",
       "      <td>0</td>\n",
       "      <td>0</td>\n",
       "      <td>0</td>\n",
       "      <td>0</td>\n",
       "      <td>0</td>\n",
       "      <td>...</td>\n",
       "      <td>0</td>\n",
       "      <td>0</td>\n",
       "      <td>0</td>\n",
       "      <td>0</td>\n",
       "      <td>0</td>\n",
       "      <td>0</td>\n",
       "      <td>0</td>\n",
       "      <td>0</td>\n",
       "      <td>0</td>\n",
       "      <td>0</td>\n",
       "    </tr>\n",
       "    <tr>\n",
       "      <th>3</th>\n",
       "      <td>0</td>\n",
       "      <td>0</td>\n",
       "      <td>0</td>\n",
       "      <td>0</td>\n",
       "      <td>0</td>\n",
       "      <td>0</td>\n",
       "      <td>0</td>\n",
       "      <td>0</td>\n",
       "      <td>0</td>\n",
       "      <td>0</td>\n",
       "      <td>...</td>\n",
       "      <td>0</td>\n",
       "      <td>0</td>\n",
       "      <td>0</td>\n",
       "      <td>0</td>\n",
       "      <td>0</td>\n",
       "      <td>0</td>\n",
       "      <td>0</td>\n",
       "      <td>0</td>\n",
       "      <td>0</td>\n",
       "      <td>0</td>\n",
       "    </tr>\n",
       "    <tr>\n",
       "      <th>4</th>\n",
       "      <td>0</td>\n",
       "      <td>0</td>\n",
       "      <td>0</td>\n",
       "      <td>0</td>\n",
       "      <td>0</td>\n",
       "      <td>0</td>\n",
       "      <td>0</td>\n",
       "      <td>0</td>\n",
       "      <td>0</td>\n",
       "      <td>0</td>\n",
       "      <td>...</td>\n",
       "      <td>0</td>\n",
       "      <td>0</td>\n",
       "      <td>0</td>\n",
       "      <td>0</td>\n",
       "      <td>0</td>\n",
       "      <td>0</td>\n",
       "      <td>0</td>\n",
       "      <td>0</td>\n",
       "      <td>0</td>\n",
       "      <td>0</td>\n",
       "    </tr>\n",
       "  </tbody>\n",
       "</table>\n",
       "<p>5 rows × 22872 columns</p>\n",
       "</div>"
      ],
      "text/plain": [
       "   00  01  02s91ipder  03  04  06  0888888888  0jdgav1mow  0q4pyaqhlz  \\\n",
       "0   0   0           0   0   0   0           0           0           0   \n",
       "1   0   0           0   0   0   0           0           0           0   \n",
       "2   0   0           0   0   0   0           0           0           0   \n",
       "3   0   0           0   0   0   0           0           0           0   \n",
       "4   0   0           0   0   0   0           0           0           0   \n",
       "\n",
       "   0sxlbtcpgh  ...  żądza  żądło  żłobu  лайка  איזה  הנשיא  מצוין  פולני  \\\n",
       "0           0  ...      0      0      0      0     0      0      0      0   \n",
       "1           0  ...      0      0      0      0     0      0      0      0   \n",
       "2           0  ...      0      0      0      0     0      0      0      0   \n",
       "3           0  ...      0      0      0      0     0      0      0      0   \n",
       "4           0  ...      0      0      0      0     0      0      0      0   \n",
       "\n",
       "   רעיון  של  \n",
       "0      0   0  \n",
       "1      0   0  \n",
       "2      0   0  \n",
       "3      0   0  \n",
       "4      0   0  \n",
       "\n",
       "[5 rows x 22872 columns]"
      ]
     },
     "execution_count": 15,
     "metadata": {},
     "output_type": "execute_result"
    }
   ],
   "source": [
    "df_cv.head()"
   ]
  },
  {
   "cell_type": "code",
   "execution_count": 20,
   "id": "d1fdbaa2",
   "metadata": {},
   "outputs": [
    {
     "data": {
      "text/plain": [
       "00            25\n",
       "01             5\n",
       "02s91ipder     1\n",
       "03             1\n",
       "04             1\n",
       "              ..\n",
       "הנשיא          2\n",
       "מצוין          2\n",
       "פולני          2\n",
       "רעיון          2\n",
       "של             2\n",
       "Length: 22872, dtype: int64"
      ]
     },
     "execution_count": 20,
     "metadata": {},
     "output_type": "execute_result"
    }
   ],
   "source": [
    "df_cv.sum(axis=0)"
   ]
  },
  {
   "cell_type": "code",
   "execution_count": null,
   "id": "a46e4618",
   "metadata": {},
   "outputs": [],
   "source": []
  },
  {
   "cell_type": "code",
   "execution_count": null,
   "id": "784790ac",
   "metadata": {},
   "outputs": [],
   "source": []
  },
  {
   "cell_type": "code",
   "execution_count": null,
   "id": "5076bee8",
   "metadata": {},
   "outputs": [],
   "source": []
  },
  {
   "cell_type": "code",
   "execution_count": null,
   "id": "5ca10717",
   "metadata": {},
   "outputs": [],
   "source": []
  },
  {
   "cell_type": "markdown",
   "id": "0fc2ca96",
   "metadata": {},
   "source": [
    "Analysis:\n",
    "- https://towardsdatascience.com/sentiment-analysis-concept-analysis-and-applications-6c94d6f58c17\n",
    "- https://towardsdatascience.com/preprocessing-text-data-using-python-576206753c28\n",
    "- https://towardsdatascience.com/nlp-part-3-exploratory-data-analysis-of-text-data-1caa8ab3f79d\n",
    "- https://neptune.ai/blog/exploratory-data-analysis-natural-language-processing-tools\n",
    "- https://www.analyticsvidhya.com/blog/2020/04/beginners-guide-exploratory-data-analysis-text-data/"
   ]
  },
  {
   "cell_type": "markdown",
   "id": "c96d9181",
   "metadata": {},
   "source": [
    "- Perform simple analysis:\n",
    "    - Word count\n",
    "    - Most frequent words\n",
    "    - Length of tweets\n",
    "    - Average tweet length by class\n",
    "    - Average word length by class\n",
    "- Remove emoji's? Or maybe tokenize them\n",
    "    - https://github.com/huggingface/transformers/issues/7648\n",
    "    - https://stackoverflow.com/questions/57679668/tokenizing-emojis-contiguous-to-words\n",
    "\n",
    "- Check if tagging other account by `@anonymized_account`, is correlated with the labels\n",
    "- Check if retweeting `RT`, is correlated with the labels\n"
   ]
  },
  {
   "cell_type": "code",
   "execution_count": null,
   "id": "a4dee7bd",
   "metadata": {},
   "outputs": [],
   "source": []
  },
  {
   "cell_type": "code",
   "execution_count": null,
   "id": "879fb803",
   "metadata": {},
   "outputs": [],
   "source": []
  },
  {
   "cell_type": "code",
   "execution_count": null,
   "id": "2a25e843",
   "metadata": {},
   "outputs": [],
   "source": []
  },
  {
   "cell_type": "code",
   "execution_count": null,
   "id": "ade8a40c",
   "metadata": {},
   "outputs": [],
   "source": []
  },
  {
   "cell_type": "code",
   "execution_count": null,
   "id": "ddf909f1",
   "metadata": {},
   "outputs": [],
   "source": []
  },
  {
   "cell_type": "code",
   "execution_count": null,
   "id": "6b3847ec",
   "metadata": {},
   "outputs": [],
   "source": []
  },
  {
   "cell_type": "code",
   "execution_count": null,
   "id": "63b1db4e",
   "metadata": {},
   "outputs": [],
   "source": []
  },
  {
   "cell_type": "code",
   "execution_count": null,
   "id": "d45abed3",
   "metadata": {},
   "outputs": [],
   "source": []
  },
  {
   "cell_type": "code",
   "execution_count": null,
   "id": "eb1496b8",
   "metadata": {},
   "outputs": [],
   "source": []
  },
  {
   "cell_type": "markdown",
   "id": "399662a4",
   "metadata": {},
   "source": [
    "Preprocessing:\n",
    "- Lower the text? (not always as capital text is 'shouting') - check if more uppercase means cyberbullying\n",
    "- Remove duplicates (181 i 182 - duplikaty)\n",
    "- Create a pipeline!!!"
   ]
  },
  {
   "cell_type": "code",
   "execution_count": null,
   "id": "90becddb",
   "metadata": {},
   "outputs": [],
   "source": []
  }
 ],
 "metadata": {
  "kernelspec": {
   "display_name": "Python 3",
   "language": "python",
   "name": "python3"
  },
  "language_info": {
   "codemirror_mode": {
    "name": "ipython",
    "version": 3
   },
   "file_extension": ".py",
   "mimetype": "text/x-python",
   "name": "python",
   "nbconvert_exporter": "python",
   "pygments_lexer": "ipython3",
   "version": "3.6.9"
  },
  "toc": {
   "base_numbering": 1,
   "nav_menu": {},
   "number_sections": true,
   "sideBar": true,
   "skip_h1_title": false,
   "title_cell": "Table of Contents",
   "title_sidebar": "Contents",
   "toc_cell": false,
   "toc_position": {},
   "toc_section_display": true,
   "toc_window_display": false
  }
 },
 "nbformat": 4,
 "nbformat_minor": 5
}
